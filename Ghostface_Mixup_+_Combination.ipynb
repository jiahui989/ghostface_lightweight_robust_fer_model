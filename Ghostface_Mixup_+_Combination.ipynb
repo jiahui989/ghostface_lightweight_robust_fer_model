{
  "cells": [
    {
      "cell_type": "code",
      "execution_count": null,
      "id": "704080eb-6825-4e69-9cc9-a826898107a7",
      "metadata": {
        "id": "704080eb-6825-4e69-9cc9-a826898107a7"
      },
      "outputs": [],
      "source": [
        "# Download dependencies\n",
        "!pip install imgaug\n",
        "!apt-get update && apt-get install -y python3-opencv\n",
        "!pip install keras-flops\n",
        "\n",
        "# Import libraries\n",
        "%matplotlib inline\n",
        "import matplotlib.pyplot as plt\n",
        "import cv2\n",
        "import numpy as np\n",
        "import tensorflow as tf\n",
        "from tensorflow.keras import layers\n",
        "from tensorflow.keras.preprocessing.image import ImageDataGenerator\n",
        "from tensorflow.keras.callbacks import EarlyStopping, ReduceLROnPlateau, ModelCheckpoint\n",
        "from keras.utils.layer_utils import count_params\n",
        "from keras_flops import get_flops\n",
        "import sys\n",
        "import os\n",
        "import random\n",
        "from imgaug import augmenters as iaa\n",
        "\n",
        "# function: print train and val loss and accuracy \n",
        "def print_graphs(history_record):\n",
        "    print(history_record.history.keys())\n",
        "    # summarize history for accuracy\n",
        "    plt.plot(history_record.history['accuracy'])\n",
        "    plt.plot(history_record.history['val_accuracy'])\n",
        "    plt.title('model accuracy')\n",
        "    plt.ylabel('accuracy')\n",
        "    plt.xlabel('epoch')\n",
        "    plt.legend(['train', 'test'], loc='upper left')\n",
        "    plt.show()\n",
        "  \n",
        "    # summarize history for loss\n",
        "    plt.plot(history_record.history['loss'])\n",
        "    plt.plot(history_record.history['val_loss'])\n",
        "    plt.title('model loss')\n",
        "    plt.ylabel('loss')\n",
        "    plt.xlabel('epoch')\n",
        "    plt.legend(['train', 'test'], loc='upper left')\n",
        "    plt.show()\n",
        "\n",
        "# function: gradcam visualization on GHOSTFACE's attention\n",
        "def plot_gradcam(index_img, model):\n",
        "    \n",
        "    emotion_dict = {0:\"Surprise\", 1:\"Fear\", 2: \"Disgusted\", 3: \"Happiness\", 4: \"Sadness\", 5: \"Anger\", 6: \"Neutral\"}\n",
        "    \n",
        "    # Plot test images\n",
        "    image = X_test[index_img]\n",
        "    \n",
        "    # output of last convolution layer\n",
        "    last_conv_layer_name = 'block162_conv_1'\n",
        "    last_conv_layer = model.get_layer(last_conv_layer_name)\n",
        "    last_conv_layer_model = tf.keras.Model(model.inputs, last_conv_layer.output)\n",
        "\n",
        "    # create model that takes the output of the model above, uses the remaining layers to get final predictions\n",
        "    classifier_input = tf.keras.Input(shape=last_conv_layer.output.shape[1:])\n",
        "    x = classifier_input\n",
        "\n",
        "    #     TO DO: ADD LAYERS GLOBAL AVERAGE POOLING AND DENSE LAYER\n",
        "    for layer_name in [\"global_average_pooling\", \"fc1\", \"classifier\"]:\n",
        "        x = model.get_layer(layer_name)(x)\n",
        "    classifier_model = tf.keras.Model(classifier_input, x)\n",
        "\n",
        "    with tf.GradientTape() as tape:\n",
        "        inputs = image[np.newaxis, ...]\n",
        "        last_conv_layer_output = last_conv_layer_model(inputs)\n",
        "        tape.watch(last_conv_layer_output)\n",
        "        preds = classifier_model(last_conv_layer_output)\n",
        "        top_pred_index = tf.argmax(preds[0])\n",
        "        top_class_channel = preds[:, top_pred_index]\n",
        "\n",
        "    grads = tape.gradient(top_class_channel, last_conv_layer_output)\n",
        "    pooled_grads = tf.reduce_mean(grads, axis=(0, 1, 2))\n",
        "    last_conv_layer_output = last_conv_layer_output.numpy()[0]\n",
        "    pooled_grads = pooled_grads.numpy()\n",
        "    for i in range(pooled_grads.shape[-1]):\n",
        "        last_conv_layer_output[:, :, i] *= pooled_grads[i]\n",
        "\n",
        "    gradcam = np.mean(last_conv_layer_output, axis=-1)\n",
        "    gradcam = np.clip(gradcam, 0, np.max(gradcam)) / np.max(gradcam)\n",
        "    gradcam = cv2.resize(gradcam, (224, 224))\n",
        "\n",
        "    plt.figure(figsize=(7, 7))\n",
        "    \n",
        "    ax = plt.subplot(1, 2, 1)\n",
        "    plt.imshow(image.astype('uint8'))\n",
        "    plt.axis('off')\n",
        "    plt.title('Original Image: {}'.format(emotion_dict[np.argmax(Y_test[index_img])]))\n",
        "    \n",
        "    ax = plt.subplot(1, 2, 2)\n",
        "    plt.imshow(image.astype('uint8'))\n",
        "    plt.imshow(gradcam, alpha=0.5)\n",
        "    plt.axis('off')\n",
        "    plt.title('Predicted: {}'.format(emotion_dict[np.argmax(model.predict(X_test[index_img][tf.newaxis, ...]))]))\n",
        "    plt.tight_layout()\n",
        "    plt.show()"
      ]
    },
    {
      "cell_type": "code",
      "execution_count": null,
      "id": "efe75caa-26e0-4e2a-a333-d07edb7c5a94",
      "metadata": {
        "id": "efe75caa-26e0-4e2a-a333-d07edb7c5a94",
        "outputId": "edbe101f-6a8d-4587-fa5c-acb99b70fec0"
      },
      "outputs": [
        {
          "name": "stdout",
          "output_type": "stream",
          "text": [
            "(11043, 224, 224, 3) (11043, 7)\n",
            "(1228, 224, 224, 3) (1228, 7)\n",
            "(3068, 224, 224, 3) (3068, 7)\n"
          ]
        }
      ],
      "source": [
        "# Import RAF-DB data set\n",
        "X_train = np.load('rafdb/X_train_rafdb.npy')\n",
        "Y_train = np.load('rafdb/Y_train_rafdb.npy')\n",
        "X_dev = np.load('rafdb/X_val_rafdb.npy')\n",
        "Y_dev = np.load('rafdb/Y_val_rafdb.npy')\n",
        "X_test = np.load('rafdb/X_test_rafdb.npy')\n",
        "Y_test = np.load('rafdb/Y_test_rafdb.npy')\n",
        "\n",
        "print(X_train.shape, Y_train.shape)\n",
        "print(X_dev.shape, Y_dev.shape)\n",
        "print(X_test.shape, Y_test.shape)"
      ]
    },
    {
      "cell_type": "code",
      "execution_count": null,
      "id": "5294357e-1153-453d-a996-40e02610045f",
      "metadata": {
        "id": "5294357e-1153-453d-a996-40e02610045f"
      },
      "outputs": [],
      "source": [
        "# Control factor\n",
        "from tensorflow.keras.preprocessing.image import ImageDataGenerator\n",
        "datagen_train = ImageDataGenerator(rotation_range=25, horizontal_flip=True, \n",
        "                                   width_shift_range=0.25, height_shift_range=0.25)\n",
        "datagen_train.fit(X_train)"
      ]
    },
    {
      "cell_type": "code",
      "source": [
        "normalizer = tf.keras.layers.Normalization(axis=None)\n",
        "normalizer.adapt(X_train)"
      ],
      "metadata": {
        "id": "UVlk22q-1XTL"
      },
      "id": "UVlk22q-1XTL",
      "execution_count": 7,
      "outputs": []
    },
    {
      "cell_type": "code",
      "execution_count": 8,
      "id": "c4c605ee-780c-4d97-a7f8-0209ee2f8948",
      "metadata": {
        "id": "c4c605ee-780c-4d97-a7f8-0209ee2f8948"
      },
      "outputs": [],
      "source": [
        "# Triplet Attention Module\n",
        "def TripletAttention(x, block_code):\n",
        "\n",
        "    permute_hw = tf.keras.layers.Permute((1, 2, 3))(x)\n",
        "    concat_hw = tf.keras.layers.Concatenate(axis=-1)([tf.expand_dims(tf.math.reduce_max(permute_hw, axis=-1), axis=-1), tf.expand_dims(tf.math.reduce_mean(permute_hw, axis=-1), axis=-1)])\n",
        "    conv_hw = tf.keras.layers.Conv2D(filters=1, kernel_size=7, strides=1, padding='same', data_format='channels_last')(concat_hw)\n",
        "    batchnorm_hw = tf.keras.layers.BatchNormalization()(conv_hw)\n",
        "    sig_act_hw = tf.keras.layers.Activation('sigmoid')(batchnorm_hw)\n",
        "    skipconn_hw = tf.keras.layers.Multiply()([sig_act_hw, permute_hw])\n",
        "\n",
        "    permute_w = tf.keras.layers.Permute((1, 3, 2))(x)\n",
        "    concat_w = tf.keras.layers.Concatenate(axis=-1)([tf.expand_dims(tf.math.reduce_max(permute_w, axis=-1), axis=-1), tf.expand_dims(tf.math.reduce_mean(permute_w, axis=-1), axis=-1)])\n",
        "    conv_w = tf.keras.layers.Conv2D(filters=1, kernel_size=7, strides=1, padding='same', data_format='channels_last')(concat_w)\n",
        "    batchnorm_w = tf.keras.layers.BatchNormalization()(conv_w)\n",
        "    sig_act_w = tf.keras.layers.Activation('sigmoid')(batchnorm_w)\n",
        "    skipconn_w = tf.keras.layers.Multiply()([sig_act_w, permute_w])\n",
        "    repermute_w = tf.keras.layers.Permute((1, 3, 2))(skipconn_w)\n",
        "\n",
        "    permute_h = tf.keras.layers.Permute((3, 1, 2), name= 'block' + str(block_code) + '_permute1_h')(x)\n",
        "    concat_h = tf.keras.layers.Concatenate(axis=-1, name= 'block' + str(block_code) + '_concat_h')([tf.expand_dims(tf.math.reduce_max(permute_h, axis=-1), axis=-1), tf.expand_dims(tf.math.reduce_mean(permute_h, axis=-1), axis=-1)])\n",
        "    conv_h = tf.keras.layers.Conv2D(filters=1, kernel_size=7, strides=1, padding='same', data_format='channels_last', name= 'block' + str(block_code) + '_conv_h')(concat_h)\n",
        "    batchnorm_h = tf.keras.layers.BatchNormalization(name= 'block' + str(block_code) + '_batchnorm_h')(conv_h)\n",
        "    sig_act_h = tf.keras.layers.Activation('sigmoid', name= 'block' + str(block_code) + '_sigmoid_h')(batchnorm_h)\n",
        "    skipconn_h = tf.keras.layers.Multiply(name= 'block' + str(block_code) + '_mult_h')([sig_act_h, permute_h])\n",
        "    repermute_h = tf.keras.layers.Permute((3, 2, 1), name= 'block' + str(block_code) + '_permute2_h')(skipconn_h)\n",
        "\n",
        "    average_lyr = tf.keras.layers.Average(name='block' + str(block_code) + '_average')([skipconn_hw, repermute_w, repermute_h])\n",
        "    return average_lyr\n",
        "\n",
        "# Fused MB-Convolution Module\n",
        "def fused_conv(x, block_num, filters, strides, attention=False):\n",
        "    x1 = layers.Conv2D(filters=filters, kernel_size=3, strides=strides, padding='same', use_bias=False, name='block'+str(block_num)+'_conv_1')(x)\n",
        "    x1 = layers.BatchNormalization(name='block'+str(block_num)+'_batchnorm_1')(x1)\n",
        "    x1 = layers.Activation('relu', name='block'+str(block_num)+'_relu_1')(x1)\n",
        "    \n",
        "    if attention == True:\n",
        "        x1 = TripletAttention(x1, block_num)\n",
        "\n",
        "    x2 = layers.Conv2D(filters=filters, kernel_size=strides, strides=strides, padding='same', use_bias=False, name='block'+str(block_num)+'_conv_2')(x1)\n",
        "    x2 = layers.BatchNormalization(name='block'+str(block_num)+'_batchnorm_2')(x2)\n",
        "\n",
        "    if strides!=2:\n",
        "        x3 = layers.Add(name='block'+str(block_num)+'_add')([x, x2])\n",
        "    else:\n",
        "        x3 = x2\n",
        "        \n",
        "    return x3\n",
        "\n",
        "# Ghost Module\n",
        "def ghostnet_module(x, block_num, filters, kernel_size, strides=1, activation=True):\n",
        "    x1 = layers.Conv2D(filters=filters, kernel_size=kernel_size, strides=1, padding='same', use_bias=False, name='block'+str(block_num)+'_conv_1')(x)\n",
        "    x1 = layers.BatchNormalization(name='block'+str(block_num)+'_batchnorm_1')(x1)\n",
        "    x1 = layers.Activation('relu', name='block'+str(block_num)+'_relu1')(x1)\n",
        "    \n",
        "    x2 = layers.DepthwiseConv2D(kernel_size=kernel_size, strides=strides, padding='same', use_bias=False, name='block'+str(block_num)+'_dwconv_1')(x1)\n",
        "    x2 = layers.BatchNormalization(name='block'+str(block_num)+'_batchnorm_2')(x2)\n",
        "    if activation==True:\n",
        "        x2 = layers.Activation('relu', name='block'+str(block_num)+'_relu2')(x2)\n",
        "    \n",
        "    x3 = layers.Add(name='block'+str(block_num)+'_add')([x1, x2])\n",
        "    return x3\n",
        "\n",
        "# Attention GhostNet Bottleneck\n",
        "def ghostnet_bottleneck(x, block_num, filters, strides, kernel_size=3):\n",
        "          \n",
        "    x1 = ghostnet_module(x, str(block_num) + '1', filters, kernel_size, strides=1, activation=True)\n",
        "    x1 = layers.BatchNormalization(name='block'+str(block_num)+'_batchnorm_1')(x1)\n",
        "    x1 = layers.Activation('relu', name='block'+str(block_num)+'_relu_1')(x1)\n",
        "    \n",
        "    x1 = TripletAttention(x1, block_num)\n",
        "    \n",
        "    x2 = ghostnet_module(x1, str(block_num) + '2', filters, kernel_size, strides=1, activation=False)\n",
        "    x2 = layers.BatchNormalization(name='block'+str(block_num)+'_batchnorm_2')(x2)\n",
        "    \n",
        "    b0, h0, w0, c0 = x2.shape \n",
        "    if strides>1:\n",
        "        if c0!=filters*2:\n",
        "            x = layers.DepthwiseConv2D(kernel_size=1, strides=1, padding='same', use_bias=False, name='block'+str(block_num)+'_downsample_dwconv_correction')(x)\n",
        "            x = layers.Conv2D(filters=filters, kernel_size=1, strides=1, padding='same', use_bias=False, name='block'+str(block_num)+'_downsample_conv_correction')(x)\n",
        "        \n",
        "        x3 = layers.Add(name='block'+str(block_num)+'_add')([x, x2])\n",
        "        x3 = layers.DepthwiseConv2D(kernel_size=kernel_size, strides=2, padding='same', use_bias=False, name='block'+str(block_num)+'_downsample_dwconv1')(x3)\n",
        "    else:\n",
        "        x3 = layers.Add(name='block'+str(block_num)+'_add')([x, x2])\n",
        "\n",
        "    return x3\n",
        "\n",
        "# GHOSTFACE CLASSIFICATION MODEL \n",
        "def classification_model(input_shape=(224, 224, 3)):\n",
        "    input_lyr = tf.keras.layers.Input(input_shape)\n",
        "    \n",
        "    norm = normalizer(input_lyr)\n",
        "    \n",
        "    x = layers.Conv2D(filters=8, kernel_size=5, strides=2, padding='same', use_bias=False, name='normal_conv_1')(norm)\n",
        "    x = layers.BatchNormalization(name='normal_bn_1')(x)\n",
        "    x = layers.Activation('relu', name='normal_relu')(x)\n",
        "    \n",
        "    x = fused_conv(x=x, block_num=1, filters=8, strides=1)\n",
        "    x = fused_conv(x=x, block_num=2, filters=8, strides=1)\n",
        "    x = fused_conv(x=x, block_num=3, filters=8, strides=1, attention=True)\n",
        "    \n",
        "    x = fused_conv(x=x, block_num=4, filters=16, strides=2, attention=True)\n",
        "    x = fused_conv(x=x, block_num=5, filters=16, strides=1)\n",
        "    x = fused_conv(x=x, block_num=6, filters=16, strides=1, attention=True)\n",
        "    \n",
        "    x = ghostnet_bottleneck(x=x, block_num=7, filters=16, kernel_size=3, strides=2)\n",
        "    x = ghostnet_bottleneck(x=x, block_num=8, filters=16, kernel_size=3, strides=1)\n",
        "    x = ghostnet_bottleneck(x=x, block_num=9, filters=16, kernel_size=3, strides=1)\n",
        "    x = ghostnet_bottleneck(x=x, block_num=10, filters=16, kernel_size=3, strides=1)\n",
        "    \n",
        "    x = ghostnet_bottleneck(x=x, block_num=11, filters=32, kernel_size=3, strides=2)\n",
        "    x = ghostnet_bottleneck(x=x, block_num=12, filters=32, kernel_size=3, strides=1)\n",
        "    x = ghostnet_bottleneck(x=x, block_num=13, filters=32, kernel_size=3, strides=1)\n",
        "    \n",
        "    x = ghostnet_bottleneck(x=x, block_num=14, filters=64, kernel_size=3, strides=2)\n",
        "    x = ghostnet_bottleneck(x=x, block_num=15, filters=128, kernel_size=3, strides=2)\n",
        "    x = ghostnet_bottleneck(x=x, block_num=16, filters=240, kernel_size=3, strides=2)\n",
        "    \n",
        "    # Classifier\n",
        "    gap = layers.GlobalAveragePooling2D(name='global_average_pooling')(x)\n",
        "    dense_layer_1 = layers.Dense(240, name='fc1')(gap)\n",
        "    emotion_classifier = layers.Dense(7, name='classifier')(dense_layer_1)\n",
        "    model = tf.keras.Model(inputs=input_lyr, outputs = emotion_classifier)\n",
        "    return model"
      ]
    },
    {
      "cell_type": "code",
      "source": [
        "get_flops(classification_model())/10**6 # MFLOPS"
      ],
      "metadata": {
        "colab": {
          "base_uri": "https://localhost:8080/"
        },
        "id": "05DHs1rEz2E2",
        "outputId": "089453f8-4a3d-4f2a-d38f-148bc0a90b43"
      },
      "id": "05DHs1rEz2E2",
      "execution_count": 14,
      "outputs": [
        {
          "output_type": "execute_result",
          "data": {
            "text/plain": [
              "134.655852"
            ]
          },
          "metadata": {},
          "execution_count": 14
        }
      ]
    },
    {
      "cell_type": "code",
      "source": [
        "count_params(classification_model().weights) # total params"
      ],
      "metadata": {
        "colab": {
          "base_uri": "https://localhost:8080/"
        },
        "id": "ldqDy8Du1tB8",
        "outputId": "cfd0eb0a-2acd-4ca7-8290-ff9b139c3a13"
      },
      "id": "ldqDy8Du1tB8",
      "execution_count": 13,
      "outputs": [
        {
          "output_type": "execute_result",
          "data": {
            "text/plain": [
              "1285619"
            ]
          },
          "metadata": {},
          "execution_count": 13
        }
      ]
    },
    {
      "cell_type": "code",
      "source": [
        "count_params(classification_model().trainable_weights) # trainable params"
      ],
      "metadata": {
        "colab": {
          "base_uri": "https://localhost:8080/"
        },
        "id": "7HIHyyDz0C0o",
        "outputId": "d1d61106-56c2-4274-bfa9-7fb2ba9d5d05"
      },
      "id": "7HIHyyDz0C0o",
      "execution_count": 12,
      "outputs": [
        {
          "output_type": "execute_result",
          "data": {
            "text/plain": [
              "1278130"
            ]
          },
          "metadata": {},
          "execution_count": 12
        }
      ]
    },
    {
      "cell_type": "code",
      "execution_count": null,
      "id": "965cdb59-8c44-4a81-ab3f-470be8cd9c16",
      "metadata": {
        "scrolled": true,
        "tags": [],
        "id": "965cdb59-8c44-4a81-ab3f-470be8cd9c16",
        "outputId": "c703c245-1abf-42d8-c86e-db473b19bbc5"
      },
      "outputs": [
        {
          "name": "stdout",
          "output_type": "stream",
          "text": [
            "(2760, 224, 224, 3) (2760, 7)\n",
            "(2760, 224, 224, 3) (2760, 7)\n"
          ]
        },
        {
          "name": "stderr",
          "output_type": "stream",
          "text": [
            "2022-07-13 14:14:43.546260: W tensorflow/core/framework/cpu_allocator_impl.cc:82] Allocation of 1661829120 exceeds 10% of free system memory.\n",
            "2022-07-13 14:14:44.856448: W tensorflow/core/framework/cpu_allocator_impl.cc:82] Allocation of 1661829120 exceeds 10% of free system memory.\n"
          ]
        }
      ],
      "source": [
        "# MIXUP Augmentation\n",
        "def shuffle(X_train_mixup, Y_train_mixup):\n",
        "    zipped = zip(X_train_mixup, Y_train_mixup)\n",
        "    zip_list = list(zipped)\n",
        "    random.shuffle(zip_list)\n",
        "    print(X_train_mixup.shape, Y_train_mixup.shape)\n",
        "    imgs = [zip_list[i][0] for i in range(X_train_mixup.shape[0])]\n",
        "    x_shuffled_mixup = np.asarray(imgs)\n",
        "\n",
        "    lbls = [zip_list[i][1] for i in range(X_train_mixup.shape[0])]\n",
        "    y_shuffled_mixup = np.asarray(lbls)\n",
        "\n",
        "    print(x_shuffled_mixup.shape, y_shuffled_mixup.shape)\n",
        "    \n",
        "    return x_shuffled_mixup, y_shuffled_mixup\n",
        "\n",
        "def sample_beta_distribution(size, concentration_0=0.2, concentration_1=0.2):\n",
        "    gamma_1_sample = tf.random.gamma(shape=[size], alpha=concentration_1)\n",
        "    gamma_2_sample = tf.random.gamma(shape=[size], alpha=concentration_0)\n",
        "    return gamma_1_sample / (gamma_1_sample + gamma_2_sample)\n",
        "\n",
        "\n",
        "def mix_up(x_train_ds_1, y_train_ds_1, alpha=0.20):\n",
        "    \n",
        "    s = shuffle(X_train[1000:3760], Y_train[1000:3760])\n",
        "    batch_size = tf.shape(x_train_ds_1)[0]\n",
        "\n",
        "    # Sample lambda and reshape it to do the mixup\n",
        "    l = sample_beta_distribution(batch_size, alpha, alpha)\n",
        "    x_l = tf.reshape(l, (batch_size, 1, 1, 1))\n",
        "    y_l = tf.reshape(l, (batch_size, 1))\n",
        "\n",
        "    # Perform mixup on both images and labels by combining a pair of images/labels\n",
        "    # (one from each dataset) into one image/label\n",
        "    images = x_train_ds_1 * x_l + s[0] * (1 - x_l)\n",
        "    labels = y_train_ds_1 * y_l + s[1] * (1 - y_l)\n",
        "    return images, labels\n",
        "\n",
        "X_train[6500:9260], Y_train[6500:9260] = mix_up(X_train[6500:9260], Y_train[6500:9260])"
      ]
    },
    {
      "cell_type": "code",
      "execution_count": null,
      "id": "bb45ad5d-7493-4b27-96ea-179586e9471b",
      "metadata": {
        "id": "bb45ad5d-7493-4b27-96ea-179586e9471b",
        "outputId": "aca096a3-eb36-4b8b-c843-20f095e3a378"
      },
      "outputs": [
        {
          "name": "stdout",
          "output_type": "stream",
          "text": [
            "(11043, 224, 224, 3) (11043, 7)\n",
            "float32 float32\n"
          ]
        }
      ],
      "source": [
        "# RandAug Augmentation\n",
        "def rand_augmentation(X_train_kaug, Y_train_kaug):\n",
        "    print(X_train_kaug.shape, Y_train_kaug.shape)\n",
        "    rand_aug = iaa.RandAugment(n=(0, 3), m=(2, 4)) #n=(0, 2), m=(2, 5) with accuracy 77.17 #(n=(0, 3), m=(2, 6)) with accuracy 76.76\n",
        "    X_train_kaug = rand_aug(images=X_train_kaug.astype('uint8')).astype('float32')\n",
        "    print(X_train_kaug.dtype, Y_train_kaug.dtype)\n",
        "    return X_train_kaug, Y_train_kaug\n",
        "\n",
        "X_train, Y_train = rand_augmentation(X_train, Y_train)"
      ]
    },
    {
      "cell_type": "code",
      "execution_count": null,
      "id": "b89e8e84-984e-463e-a94e-9719b1f0cc0a",
      "metadata": {
        "id": "b89e8e84-984e-463e-a94e-9719b1f0cc0a"
      },
      "outputs": [],
      "source": [
        "# Image Normalization\n",
        "normalizer = tf.keras.layers.Normalization(axis=None)\n",
        "normalizer.adapt(X_train)"
      ]
    },
    {
      "cell_type": "code",
      "execution_count": null,
      "id": "4a647da9-fd04-4f50-86b9-17406062c545",
      "metadata": {
        "scrolled": true,
        "tags": [],
        "id": "4a647da9-fd04-4f50-86b9-17406062c545",
        "outputId": "7a90f74b-92be-45e9-d87a-4a6525f0daa3"
      },
      "outputs": [
        {
          "name": "stdout",
          "output_type": "stream",
          "text": [
            "Epoch 1/100\n"
          ]
        },
        {
          "name": "stderr",
          "output_type": "stream",
          "text": [
            "2022-07-13 04:17:46.308626: I tensorflow/stream_executor/cuda/cuda_dnn.cc:377] Loaded cuDNN version 8302\n",
            "2022-07-13 04:17:49.444787: I tensorflow/stream_executor/cuda/cuda_blas.cc:1792] TensorFloat-32 will be used for the matrix multiplication. This will only be logged once.\n"
          ]
        },
        {
          "name": "stdout",
          "output_type": "stream",
          "text": [
            "691/691 [==============================] - 99s 113ms/step - loss: 1.6569 - accuracy: 0.3858 - val_loss: 1.6464 - val_accuracy: 0.3884 - lr: 0.1000\n",
            "Epoch 2/100\n",
            "691/691 [==============================] - 72s 105ms/step - loss: 1.6416 - accuracy: 0.3883 - val_loss: 1.6536 - val_accuracy: 0.3884 - lr: 0.1000\n",
            "Epoch 3/100\n",
            "691/691 [==============================] - 73s 106ms/step - loss: 1.6334 - accuracy: 0.3885 - val_loss: 1.6406 - val_accuracy: 0.3721 - lr: 0.1000\n",
            "Epoch 4/100\n",
            "691/691 [==============================] - 74s 106ms/step - loss: 1.6308 - accuracy: 0.3891 - val_loss: 1.6402 - val_accuracy: 0.3811 - lr: 0.1000\n",
            "Epoch 5/100\n",
            "691/691 [==============================] - 73s 105ms/step - loss: 1.6252 - accuracy: 0.3902 - val_loss: 1.6399 - val_accuracy: 0.3876 - lr: 0.1000\n",
            "Epoch 6/100\n",
            "691/691 [==============================] - 72s 105ms/step - loss: 1.6245 - accuracy: 0.3878 - val_loss: 1.7335 - val_accuracy: 0.3200 - lr: 0.1000\n",
            "Epoch 7/100\n",
            "691/691 [==============================] - 74s 107ms/step - loss: 1.6216 - accuracy: 0.3916 - val_loss: 1.6283 - val_accuracy: 0.3901 - lr: 0.1000\n",
            "Epoch 8/100\n",
            "691/691 [==============================] - 73s 105ms/step - loss: 1.6220 - accuracy: 0.3882 - val_loss: 1.6296 - val_accuracy: 0.3884 - lr: 0.1000\n",
            "Epoch 9/100\n",
            "691/691 [==============================] - 72s 105ms/step - loss: 1.6242 - accuracy: 0.3887 - val_loss: 1.6312 - val_accuracy: 0.3884 - lr: 0.1000\n",
            "Epoch 10/100\n",
            "691/691 [==============================] - 72s 104ms/step - loss: 1.6228 - accuracy: 0.3892 - val_loss: 1.6468 - val_accuracy: 0.3884 - lr: 0.1000\n",
            "Epoch 11/100\n",
            "691/691 [==============================] - 73s 105ms/step - loss: 1.6165 - accuracy: 0.3857 - val_loss: 1.6394 - val_accuracy: 0.3884 - lr: 0.1000\n",
            "Epoch 12/100\n",
            "691/691 [==============================] - 73s 106ms/step - loss: 1.6115 - accuracy: 0.3924 - val_loss: 1.6449 - val_accuracy: 0.3893 - lr: 0.1000\n",
            "Epoch 13/100\n",
            "691/691 [==============================] - 74s 106ms/step - loss: 1.5926 - accuracy: 0.3904 - val_loss: 1.6167 - val_accuracy: 0.3958 - lr: 0.0500\n",
            "Epoch 14/100\n",
            "691/691 [==============================] - 74s 106ms/step - loss: 1.5865 - accuracy: 0.3929 - val_loss: 1.5568 - val_accuracy: 0.3941 - lr: 0.0500\n",
            "Epoch 15/100\n",
            "691/691 [==============================] - 73s 106ms/step - loss: 1.5826 - accuracy: 0.3925 - val_loss: 1.5757 - val_accuracy: 0.4153 - lr: 0.0500\n",
            "Epoch 16/100\n",
            "691/691 [==============================] - 72s 105ms/step - loss: 1.5718 - accuracy: 0.3983 - val_loss: 1.5731 - val_accuracy: 0.3941 - lr: 0.0500\n",
            "Epoch 17/100\n",
            "691/691 [==============================] - 73s 105ms/step - loss: 1.5574 - accuracy: 0.3985 - val_loss: 1.5900 - val_accuracy: 0.4129 - lr: 0.0500\n",
            "Epoch 18/100\n",
            "691/691 [==============================] - 75s 108ms/step - loss: 1.5351 - accuracy: 0.4094 - val_loss: 1.5437 - val_accuracy: 0.3990 - lr: 0.0500\n",
            "Epoch 19/100\n",
            "691/691 [==============================] - 73s 105ms/step - loss: 1.4784 - accuracy: 0.4573 - val_loss: 1.6106 - val_accuracy: 0.4121 - lr: 0.0500\n",
            "Epoch 20/100\n",
            "691/691 [==============================] - 72s 104ms/step - loss: 1.4291 - accuracy: 0.4743 - val_loss: 1.6405 - val_accuracy: 0.4829 - lr: 0.0500\n",
            "Epoch 21/100\n",
            "691/691 [==============================] - 74s 106ms/step - loss: 1.3938 - accuracy: 0.4962 - val_loss: 1.3998 - val_accuracy: 0.4919 - lr: 0.0500\n",
            "Epoch 22/100\n",
            "691/691 [==============================] - 72s 104ms/step - loss: 1.3612 - accuracy: 0.5052 - val_loss: 1.3949 - val_accuracy: 0.5155 - lr: 0.0500\n",
            "Epoch 23/100\n",
            "691/691 [==============================] - 73s 105ms/step - loss: 1.3355 - accuracy: 0.5182 - val_loss: 1.3559 - val_accuracy: 0.5130 - lr: 0.0500\n",
            "Epoch 24/100\n",
            "691/691 [==============================] - 73s 106ms/step - loss: 1.3041 - accuracy: 0.5291 - val_loss: 1.2385 - val_accuracy: 0.5586 - lr: 0.0500\n",
            "Epoch 25/100\n",
            "691/691 [==============================] - 72s 104ms/step - loss: 1.2596 - accuracy: 0.5448 - val_loss: 1.2584 - val_accuracy: 0.5489 - lr: 0.0500\n",
            "Epoch 26/100\n",
            "691/691 [==============================] - 74s 107ms/step - loss: 1.2391 - accuracy: 0.5508 - val_loss: 1.2034 - val_accuracy: 0.5529 - lr: 0.0500\n",
            "Epoch 27/100\n",
            "691/691 [==============================] - 73s 105ms/step - loss: 1.2152 - accuracy: 0.5650 - val_loss: 1.5832 - val_accuracy: 0.5326 - lr: 0.0500\n",
            "Epoch 28/100\n",
            "691/691 [==============================] - 73s 106ms/step - loss: 1.1895 - accuracy: 0.5757 - val_loss: 1.1533 - val_accuracy: 0.5782 - lr: 0.0500\n",
            "Epoch 29/100\n",
            "691/691 [==============================] - 73s 105ms/step - loss: 1.1593 - accuracy: 0.5874 - val_loss: 1.3191 - val_accuracy: 0.5505 - lr: 0.0500\n",
            "Epoch 30/100\n",
            "691/691 [==============================] - 73s 106ms/step - loss: 1.1514 - accuracy: 0.5876 - val_loss: 1.1427 - val_accuracy: 0.5879 - lr: 0.0500\n",
            "Epoch 31/100\n",
            "691/691 [==============================] - 73s 106ms/step - loss: 1.1236 - accuracy: 0.6036 - val_loss: 1.0985 - val_accuracy: 0.6107 - lr: 0.0500\n",
            "Epoch 32/100\n",
            "691/691 [==============================] - 72s 104ms/step - loss: 1.1073 - accuracy: 0.6103 - val_loss: 1.1578 - val_accuracy: 0.5945 - lr: 0.0500\n",
            "Epoch 33/100\n",
            "691/691 [==============================] - 73s 105ms/step - loss: 1.0822 - accuracy: 0.6227 - val_loss: 1.0902 - val_accuracy: 0.6124 - lr: 0.0500\n",
            "Epoch 34/100\n",
            "691/691 [==============================] - 73s 106ms/step - loss: 1.0684 - accuracy: 0.6282 - val_loss: 1.0744 - val_accuracy: 0.6327 - lr: 0.0500\n",
            "Epoch 35/100\n",
            "691/691 [==============================] - 74s 107ms/step - loss: 1.0478 - accuracy: 0.6342 - val_loss: 1.0041 - val_accuracy: 0.6621 - lr: 0.0500\n",
            "Epoch 36/100\n",
            "691/691 [==============================] - 74s 107ms/step - loss: 1.0318 - accuracy: 0.6418 - val_loss: 0.9957 - val_accuracy: 0.6612 - lr: 0.0500\n",
            "Epoch 37/100\n",
            "691/691 [==============================] - 74s 107ms/step - loss: 1.0195 - accuracy: 0.6486 - val_loss: 0.9372 - val_accuracy: 0.6694 - lr: 0.0500\n",
            "Epoch 38/100\n",
            "691/691 [==============================] - 73s 105ms/step - loss: 1.0046 - accuracy: 0.6543 - val_loss: 0.9714 - val_accuracy: 0.6604 - lr: 0.0500\n",
            "Epoch 39/100\n",
            "691/691 [==============================] - 73s 105ms/step - loss: 0.9900 - accuracy: 0.6584 - val_loss: 1.0144 - val_accuracy: 0.6441 - lr: 0.0500\n",
            "Epoch 40/100\n",
            "691/691 [==============================] - 73s 105ms/step - loss: 0.9803 - accuracy: 0.6617 - val_loss: 1.0458 - val_accuracy: 0.6523 - lr: 0.0500\n",
            "Epoch 41/100\n",
            "691/691 [==============================] - 74s 106ms/step - loss: 0.9728 - accuracy: 0.6663 - val_loss: 1.0606 - val_accuracy: 0.6531 - lr: 0.0500\n",
            "Epoch 42/100\n",
            "691/691 [==============================] - 72s 105ms/step - loss: 0.9673 - accuracy: 0.6641 - val_loss: 1.0569 - val_accuracy: 0.6384 - lr: 0.0500\n",
            "Epoch 43/100\n",
            "691/691 [==============================] - 73s 105ms/step - loss: 0.9090 - accuracy: 0.6889 - val_loss: 0.9518 - val_accuracy: 0.6629 - lr: 0.0250\n",
            "Epoch 44/100\n",
            "691/691 [==============================] - 73s 106ms/step - loss: 0.8744 - accuracy: 0.7008 - val_loss: 0.9028 - val_accuracy: 0.6930 - lr: 0.0250\n",
            "Epoch 45/100\n",
            "691/691 [==============================] - 72s 105ms/step - loss: 0.8680 - accuracy: 0.7040 - val_loss: 0.9470 - val_accuracy: 0.6580 - lr: 0.0250\n",
            "Epoch 46/100\n",
            "691/691 [==============================] - 75s 108ms/step - loss: 0.8731 - accuracy: 0.6976 - val_loss: 0.8862 - val_accuracy: 0.6914 - lr: 0.0250\n",
            "Epoch 47/100\n",
            "691/691 [==============================] - 73s 106ms/step - loss: 0.8552 - accuracy: 0.7091 - val_loss: 0.9530 - val_accuracy: 0.6832 - lr: 0.0250\n",
            "Epoch 48/100\n",
            "691/691 [==============================] - 74s 107ms/step - loss: 0.8496 - accuracy: 0.7121 - val_loss: 0.8316 - val_accuracy: 0.7125 - lr: 0.0250\n",
            "Epoch 49/100\n",
            "691/691 [==============================] - 72s 104ms/step - loss: 0.8417 - accuracy: 0.7125 - val_loss: 0.8330 - val_accuracy: 0.7093 - lr: 0.0250\n",
            "Epoch 50/100\n",
            "691/691 [==============================] - 73s 105ms/step - loss: 0.8478 - accuracy: 0.7128 - val_loss: 0.9437 - val_accuracy: 0.6718 - lr: 0.0250\n",
            "Epoch 51/100\n",
            "691/691 [==============================] - 72s 104ms/step - loss: 0.8394 - accuracy: 0.7146 - val_loss: 0.8579 - val_accuracy: 0.6938 - lr: 0.0250\n",
            "Epoch 52/100\n",
            "691/691 [==============================] - 74s 107ms/step - loss: 0.8238 - accuracy: 0.7170 - val_loss: 0.8059 - val_accuracy: 0.7288 - lr: 0.0250\n",
            "Epoch 53/100\n",
            "691/691 [==============================] - 73s 105ms/step - loss: 0.8234 - accuracy: 0.7217 - val_loss: 0.8523 - val_accuracy: 0.7101 - lr: 0.0250\n",
            "Epoch 54/100\n",
            "691/691 [==============================] - 74s 107ms/step - loss: 0.8211 - accuracy: 0.7250 - val_loss: 0.8353 - val_accuracy: 0.7044 - lr: 0.0250\n",
            "Epoch 55/100\n",
            "691/691 [==============================] - 73s 105ms/step - loss: 0.8211 - accuracy: 0.7250 - val_loss: 0.8464 - val_accuracy: 0.7036 - lr: 0.0250\n",
            "Epoch 56/100\n",
            "691/691 [==============================] - 73s 105ms/step - loss: 0.8101 - accuracy: 0.7248 - val_loss: 0.8060 - val_accuracy: 0.7264 - lr: 0.0250\n",
            "Epoch 57/100\n",
            "691/691 [==============================] - 71s 103ms/step - loss: 0.8117 - accuracy: 0.7254 - val_loss: 0.8695 - val_accuracy: 0.7068 - lr: 0.0250\n",
            "Epoch 58/100\n",
            "691/691 [==============================] - 73s 105ms/step - loss: 0.7682 - accuracy: 0.7418 - val_loss: 0.7877 - val_accuracy: 0.7402 - lr: 0.0125\n",
            "Epoch 59/100\n",
            "691/691 [==============================] - 73s 105ms/step - loss: 0.7507 - accuracy: 0.7491 - val_loss: 0.8243 - val_accuracy: 0.7288 - lr: 0.0125\n",
            "Epoch 60/100\n",
            "691/691 [==============================] - 73s 105ms/step - loss: 0.7505 - accuracy: 0.7471 - val_loss: 0.7756 - val_accuracy: 0.7264 - lr: 0.0125\n",
            "Epoch 61/100\n",
            "691/691 [==============================] - 73s 106ms/step - loss: 0.7509 - accuracy: 0.7495 - val_loss: 0.7854 - val_accuracy: 0.7427 - lr: 0.0125\n",
            "Epoch 62/100\n",
            "691/691 [==============================] - 73s 105ms/step - loss: 0.7518 - accuracy: 0.7474 - val_loss: 0.7757 - val_accuracy: 0.7362 - lr: 0.0125\n",
            "Epoch 63/100\n",
            "691/691 [==============================] - 73s 106ms/step - loss: 0.7385 - accuracy: 0.7543 - val_loss: 0.8089 - val_accuracy: 0.7296 - lr: 0.0125\n",
            "Epoch 64/100\n",
            "691/691 [==============================] - 74s 106ms/step - loss: 0.7356 - accuracy: 0.7562 - val_loss: 0.8817 - val_accuracy: 0.7077 - lr: 0.0125\n",
            "Epoch 65/100\n",
            "691/691 [==============================] - 73s 106ms/step - loss: 0.7340 - accuracy: 0.7517 - val_loss: 0.8443 - val_accuracy: 0.7248 - lr: 0.0125\n",
            "Epoch 66/100\n",
            "691/691 [==============================] - 74s 107ms/step - loss: 0.7177 - accuracy: 0.7627 - val_loss: 0.7514 - val_accuracy: 0.7484 - lr: 0.0063\n",
            "Epoch 67/100\n",
            "691/691 [==============================] - 73s 106ms/step - loss: 0.7001 - accuracy: 0.7679 - val_loss: 0.7433 - val_accuracy: 0.7565 - lr: 0.0063\n",
            "Epoch 68/100\n",
            "691/691 [==============================] - 73s 106ms/step - loss: 0.7036 - accuracy: 0.7657 - val_loss: 0.7728 - val_accuracy: 0.7524 - lr: 0.0063\n",
            "Epoch 69/100\n",
            "691/691 [==============================] - 73s 105ms/step - loss: 0.7004 - accuracy: 0.7672 - val_loss: 0.7442 - val_accuracy: 0.7508 - lr: 0.0063\n",
            "Epoch 70/100\n",
            "691/691 [==============================] - 73s 105ms/step - loss: 0.7045 - accuracy: 0.7685 - val_loss: 0.7915 - val_accuracy: 0.7419 - lr: 0.0063\n",
            "Epoch 71/100\n",
            "691/691 [==============================] - 72s 104ms/step - loss: 0.6960 - accuracy: 0.7699 - val_loss: 0.7646 - val_accuracy: 0.7573 - lr: 0.0063\n",
            "Epoch 72/100\n",
            "691/691 [==============================] - 72s 104ms/step - loss: 0.6955 - accuracy: 0.7701 - val_loss: 0.7629 - val_accuracy: 0.7533 - lr: 0.0063\n",
            "Epoch 73/100\n",
            "691/691 [==============================] - 72s 105ms/step - loss: 0.6775 - accuracy: 0.7733 - val_loss: 0.7524 - val_accuracy: 0.7598 - lr: 0.0031\n",
            "Epoch 74/100\n",
            "691/691 [==============================] - 74s 106ms/step - loss: 0.6776 - accuracy: 0.7749 - val_loss: 0.7484 - val_accuracy: 0.7500 - lr: 0.0031\n",
            "Epoch 75/100\n",
            "691/691 [==============================] - 72s 105ms/step - loss: 0.6771 - accuracy: 0.7752 - val_loss: 0.7450 - val_accuracy: 0.7557 - lr: 0.0031\n",
            "Epoch 76/100\n",
            "691/691 [==============================] - 74s 106ms/step - loss: 0.6760 - accuracy: 0.7795 - val_loss: 0.7558 - val_accuracy: 0.7516 - lr: 0.0031\n",
            "Epoch 77/100\n",
            "691/691 [==============================] - 73s 106ms/step - loss: 0.6741 - accuracy: 0.7805 - val_loss: 0.7418 - val_accuracy: 0.7614 - lr: 0.0031\n",
            "Epoch 78/100\n",
            "691/691 [==============================] - 73s 106ms/step - loss: 0.6739 - accuracy: 0.7780 - val_loss: 0.7424 - val_accuracy: 0.7598 - lr: 0.0031\n",
            "Epoch 79/100\n",
            "691/691 [==============================] - 73s 106ms/step - loss: 0.6751 - accuracy: 0.7771 - val_loss: 0.7402 - val_accuracy: 0.7622 - lr: 0.0031\n",
            "Epoch 80/100\n",
            "691/691 [==============================] - 73s 105ms/step - loss: 0.6750 - accuracy: 0.7794 - val_loss: 0.7412 - val_accuracy: 0.7630 - lr: 0.0031\n",
            "Epoch 81/100\n",
            "691/691 [==============================] - 73s 105ms/step - loss: 0.6689 - accuracy: 0.7797 - val_loss: 0.7415 - val_accuracy: 0.7590 - lr: 0.0031\n",
            "Epoch 82/100\n",
            "691/691 [==============================] - 73s 105ms/step - loss: 0.6672 - accuracy: 0.7800 - val_loss: 0.7411 - val_accuracy: 0.7655 - lr: 0.0031\n",
            "Epoch 83/100\n",
            "691/691 [==============================] - 72s 104ms/step - loss: 0.6640 - accuracy: 0.7815 - val_loss: 0.7500 - val_accuracy: 0.7467 - lr: 0.0031\n",
            "Epoch 84/100\n",
            "691/691 [==============================] - 73s 106ms/step - loss: 0.6687 - accuracy: 0.7782 - val_loss: 0.7440 - val_accuracy: 0.7533 - lr: 0.0031\n",
            "Epoch 85/100\n",
            "691/691 [==============================] - 72s 104ms/step - loss: 0.6557 - accuracy: 0.7818 - val_loss: 0.7481 - val_accuracy: 0.7581 - lr: 0.0016\n",
            "Epoch 86/100\n",
            "691/691 [==============================] - 72s 104ms/step - loss: 0.6592 - accuracy: 0.7819 - val_loss: 0.7430 - val_accuracy: 0.7647 - lr: 0.0016\n",
            "Epoch 87/100\n",
            "691/691 [==============================] - 72s 104ms/step - loss: 0.6607 - accuracy: 0.7851 - val_loss: 0.7444 - val_accuracy: 0.7581 - lr: 0.0016\n",
            "Epoch 88/100\n",
            "691/691 [==============================] - 73s 105ms/step - loss: 0.6569 - accuracy: 0.7861 - val_loss: 0.7499 - val_accuracy: 0.7565 - lr: 0.0016\n",
            "Epoch 89/100\n",
            "691/691 [==============================] - 73s 106ms/step - loss: 0.6602 - accuracy: 0.7831 - val_loss: 0.7420 - val_accuracy: 0.7565 - lr: 0.0016\n",
            "Epoch 90/100\n",
            "691/691 [==============================] - 73s 105ms/step - loss: 0.6584 - accuracy: 0.7870 - val_loss: 0.7425 - val_accuracy: 0.7565 - lr: 7.8125e-04\n",
            "Epoch 91/100\n",
            "691/691 [==============================] - 73s 106ms/step - loss: 0.6508 - accuracy: 0.7861 - val_loss: 0.7428 - val_accuracy: 0.7581 - lr: 7.8125e-04\n",
            "Epoch 92/100\n",
            "691/691 [==============================] - 75s 108ms/step - loss: 0.6518 - accuracy: 0.7856 - val_loss: 0.7389 - val_accuracy: 0.7630 - lr: 7.8125e-04\n",
            "Epoch 93/100\n",
            "691/691 [==============================] - 73s 106ms/step - loss: 0.6631 - accuracy: 0.7831 - val_loss: 0.7445 - val_accuracy: 0.7606 - lr: 7.8125e-04\n",
            "Epoch 94/100\n",
            "691/691 [==============================] - 73s 106ms/step - loss: 0.6553 - accuracy: 0.7870 - val_loss: 0.7395 - val_accuracy: 0.7606 - lr: 7.8125e-04\n",
            "Epoch 95/100\n",
            "691/691 [==============================] - 73s 106ms/step - loss: 0.6551 - accuracy: 0.7849 - val_loss: 0.7424 - val_accuracy: 0.7622 - lr: 7.8125e-04\n",
            "Epoch 96/100\n",
            "691/691 [==============================] - 73s 105ms/step - loss: 0.6556 - accuracy: 0.7829 - val_loss: 0.7416 - val_accuracy: 0.7549 - lr: 7.8125e-04\n",
            "Epoch 97/100\n",
            "691/691 [==============================] - 73s 106ms/step - loss: 0.6570 - accuracy: 0.7855 - val_loss: 0.7462 - val_accuracy: 0.7557 - lr: 7.8125e-04\n",
            "Epoch 98/100\n",
            "691/691 [==============================] - 74s 106ms/step - loss: 0.6523 - accuracy: 0.7824 - val_loss: 0.7433 - val_accuracy: 0.7557 - lr: 3.9063e-04\n",
            "Epoch 99/100\n",
            "691/691 [==============================] - 73s 105ms/step - loss: 0.6529 - accuracy: 0.7886 - val_loss: 0.7434 - val_accuracy: 0.7557 - lr: 3.9063e-04\n",
            "Epoch 100/100\n",
            "691/691 [==============================] - 73s 106ms/step - loss: 0.6484 - accuracy: 0.7900 - val_loss: 0.7402 - val_accuracy: 0.7581 - lr: 3.9063e-04\n"
          ]
        }
      ],
      "source": [
        "# Training with MixUp\n",
        "batch_size = 16\n",
        "epochs = 100\n",
        "learning_rate = 0.1\n",
        "checkpoint_filepath = '13072022_mixup/chckpt.ckpt'\n",
        "\n",
        "optimizer = tf.keras.optimizers.SGD(learning_rate=learning_rate, clipnorm=1.)\n",
        "loss = tf.keras.losses.CategoricalCrossentropy(from_logits=True, reduction=tf.losses.Reduction.NONE)\n",
        "\n",
        "model = classification_model()\n",
        "model.compile(optimizer=optimizer, loss=loss, metrics=['accuracy'])\n",
        "save_weights = tf.keras.callbacks.ModelCheckpoint(checkpoint_filepath, monitor=\"val_loss\", mode='min', save_best_only=True, save_weights_only=True)\n",
        "reduce_learning_rate = tf.keras.callbacks.ReduceLROnPlateau(monitor='val_loss',factor=0.5, patience=5, mode='min')\n",
        "early_stopping = EarlyStopping(monitor='val_loss', patience=15, mode='min', restore_best_weights=True)\n",
        "\n",
        "history = model.fit(datagen_train.flow(X_train, Y_train, batch_size=batch_size), epochs=epochs, validation_data=(X_dev, Y_dev), callbacks=[save_weights, reduce_learning_rate, early_stopping])"
      ]
    },
    {
      "cell_type": "code",
      "execution_count": null,
      "id": "38b7cd07-da27-475f-a5ca-9f893383ee90",
      "metadata": {
        "id": "38b7cd07-da27-475f-a5ca-9f893383ee90",
        "outputId": "ec02dbf3-bced-4bc0-abaa-03f96faeab22"
      },
      "outputs": [
        {
          "name": "stdout",
          "output_type": "stream",
          "text": [
            "96/96 [==============================] - 2s 20ms/step - loss: 0.6551 - accuracy: 0.7761\n",
            "model loss: 0.6551356911659241%\n",
            "model accuracy: 0.7760756015777588%\n"
          ]
        }
      ],
      "source": [
        "loss, accuracy = model.evaluate(X_test, Y_test)\n",
        "print('model loss: {}%'.format(loss))\n",
        "print('model accuracy: {}%'.format(accuracy))"
      ]
    },
    {
      "cell_type": "code",
      "execution_count": null,
      "id": "6e9517a8-d0d8-4695-9401-7cc262d5bf63",
      "metadata": {
        "scrolled": true,
        "tags": [],
        "id": "6e9517a8-d0d8-4695-9401-7cc262d5bf63",
        "outputId": "0436aac4-4fbd-41a9-8f00-15280b9a4fe3"
      },
      "outputs": [
        {
          "name": "stdout",
          "output_type": "stream",
          "text": [
            "dict_keys(['loss', 'accuracy', 'val_loss', 'val_accuracy', 'lr'])\n"
          ]
        },
        {
          "data": {
            "image/png": "[encoded data removed]",
            "text/plain": [
              "<Figure size 432x288 with 1 Axes>"
            ]
          },
          "metadata": {
            "needs_background": "light"
          },
          "output_type": "display_data"
        },
        {
          "data": {
            "image/png": "[encoded data removed]",
            "text/plain": [
              "<Figure size 432x288 with 1 Axes>"
            ]
          },
          "metadata": {
            "needs_background": "light"
          },
          "output_type": "display_data"
        }
      ],
      "source": [
        "print_graphs(history)"
      ]
    },
    {
      "cell_type": "code",
      "execution_count": null,
      "id": "9786b06a-18cc-4d4b-a596-4712726fa660",
      "metadata": {
        "scrolled": true,
        "tags": [],
        "id": "9786b06a-18cc-4d4b-a596-4712726fa660",
        "outputId": "1dd9912d-464a-41f4-fbc7-6b0e4563e206"
      },
      "outputs": [
        {
          "name": "stdout",
          "output_type": "stream",
          "text": [
            "Epoch 1/100\n"
          ]
        },
        {
          "name": "stderr",
          "output_type": "stream",
          "text": [
            "2022-07-13 14:16:46.994672: I tensorflow/stream_executor/cuda/cuda_dnn.cc:377] Loaded cuDNN version 8302\n",
            "2022-07-13 14:16:50.952931: I tensorflow/stream_executor/cuda/cuda_blas.cc:1792] TensorFloat-32 will be used for the matrix multiplication. This will only be logged once.\n"
          ]
        },
        {
          "name": "stdout",
          "output_type": "stream",
          "text": [
            "691/691 [==============================] - 108s 118ms/step - loss: 1.6678 - accuracy: 0.3839 - val_loss: 1.6757 - val_accuracy: 0.3591 - lr: 0.1000\n",
            "Epoch 2/100\n",
            "691/691 [==============================] - 79s 114ms/step - loss: 1.6482 - accuracy: 0.3869 - val_loss: 1.6306 - val_accuracy: 0.3884 - lr: 0.1000\n",
            "Epoch 3/100\n",
            "691/691 [==============================] - 77s 112ms/step - loss: 1.6451 - accuracy: 0.3835 - val_loss: 1.6528 - val_accuracy: 0.3884 - lr: 0.1000\n",
            "Epoch 4/100\n",
            "691/691 [==============================] - 77s 111ms/step - loss: 1.6364 - accuracy: 0.3861 - val_loss: 1.6148 - val_accuracy: 0.3941 - lr: 0.1000\n",
            "Epoch 5/100\n",
            "691/691 [==============================] - 78s 113ms/step - loss: 1.6377 - accuracy: 0.3873 - val_loss: 1.6406 - val_accuracy: 0.3893 - lr: 0.1000\n",
            "Epoch 6/100\n",
            "691/691 [==============================] - 78s 112ms/step - loss: 1.6376 - accuracy: 0.3849 - val_loss: 1.6518 - val_accuracy: 0.3884 - lr: 0.1000\n",
            "Epoch 7/100\n",
            "691/691 [==============================] - 77s 112ms/step - loss: 1.6331 - accuracy: 0.3859 - val_loss: 1.6435 - val_accuracy: 0.3884 - lr: 0.1000\n",
            "Epoch 8/100\n",
            "691/691 [==============================] - 77s 111ms/step - loss: 1.6335 - accuracy: 0.3849 - val_loss: 1.6245 - val_accuracy: 0.3884 - lr: 0.1000\n",
            "Epoch 9/100\n",
            "691/691 [==============================] - 77s 111ms/step - loss: 1.6323 - accuracy: 0.3840 - val_loss: 1.6097 - val_accuracy: 0.3917 - lr: 0.1000\n",
            "Epoch 10/100\n",
            "691/691 [==============================] - 77s 112ms/step - loss: 1.6277 - accuracy: 0.3870 - val_loss: 1.6423 - val_accuracy: 0.3884 - lr: 0.1000\n",
            "Epoch 11/100\n",
            "691/691 [==============================] - 77s 111ms/step - loss: 1.6270 - accuracy: 0.3847 - val_loss: 1.6276 - val_accuracy: 0.3884 - lr: 0.1000\n",
            "Epoch 12/100\n",
            "691/691 [==============================] - 78s 113ms/step - loss: 1.6258 - accuracy: 0.3865 - val_loss: 1.8096 - val_accuracy: 0.3909 - lr: 0.1000\n",
            "Epoch 13/100\n",
            "691/691 [==============================] - 77s 111ms/step - loss: 1.6264 - accuracy: 0.3851 - val_loss: 1.6158 - val_accuracy: 0.3884 - lr: 0.1000\n",
            "Epoch 14/100\n",
            "691/691 [==============================] - 80s 116ms/step - loss: 1.6263 - accuracy: 0.3867 - val_loss: 1.6240 - val_accuracy: 0.3884 - lr: 0.1000\n",
            "Epoch 15/100\n",
            "691/691 [==============================] - 76s 111ms/step - loss: 1.6109 - accuracy: 0.3886 - val_loss: 1.6035 - val_accuracy: 0.3884 - lr: 0.0500\n",
            "Epoch 16/100\n",
            "691/691 [==============================] - 75s 109ms/step - loss: 1.6073 - accuracy: 0.3900 - val_loss: 1.6030 - val_accuracy: 0.3974 - lr: 0.0500\n",
            "Epoch 17/100\n",
            "691/691 [==============================] - 76s 110ms/step - loss: 1.6066 - accuracy: 0.3911 - val_loss: 1.5867 - val_accuracy: 0.3901 - lr: 0.0500\n",
            "Epoch 18/100\n",
            "691/691 [==============================] - 77s 111ms/step - loss: 1.6046 - accuracy: 0.3928 - val_loss: 1.5823 - val_accuracy: 0.4007 - lr: 0.0500\n",
            "Epoch 19/100\n",
            "691/691 [==============================] - 76s 110ms/step - loss: 1.6027 - accuracy: 0.3891 - val_loss: 1.5861 - val_accuracy: 0.3958 - lr: 0.0500\n",
            "Epoch 20/100\n",
            "691/691 [==============================] - 76s 110ms/step - loss: 1.5984 - accuracy: 0.3910 - val_loss: 1.5764 - val_accuracy: 0.3958 - lr: 0.0500\n",
            "Epoch 21/100\n",
            "691/691 [==============================] - 76s 110ms/step - loss: 1.5942 - accuracy: 0.3925 - val_loss: 1.5479 - val_accuracy: 0.4015 - lr: 0.0500\n",
            "Epoch 22/100\n",
            "691/691 [==============================] - 76s 110ms/step - loss: 1.5925 - accuracy: 0.3943 - val_loss: 1.5511 - val_accuracy: 0.4161 - lr: 0.0500\n",
            "Epoch 23/100\n",
            "691/691 [==============================] - 77s 111ms/step - loss: 1.5839 - accuracy: 0.3980 - val_loss: 1.5918 - val_accuracy: 0.4023 - lr: 0.0500\n",
            "Epoch 24/100\n",
            "691/691 [==============================] - 76s 110ms/step - loss: 1.5799 - accuracy: 0.4005 - val_loss: 1.6188 - val_accuracy: 0.4007 - lr: 0.0500\n",
            "Epoch 25/100\n",
            "691/691 [==============================] - 75s 109ms/step - loss: 1.5543 - accuracy: 0.4179 - val_loss: 2.1577 - val_accuracy: 0.4129 - lr: 0.0500\n",
            "Epoch 26/100\n",
            "691/691 [==============================] - 76s 110ms/step - loss: 1.4997 - accuracy: 0.4395 - val_loss: 1.5049 - val_accuracy: 0.4853 - lr: 0.0500\n",
            "Epoch 27/100\n",
            "691/691 [==============================] - 76s 110ms/step - loss: 1.4565 - accuracy: 0.4674 - val_loss: 1.4933 - val_accuracy: 0.4520 - lr: 0.0500\n",
            "Epoch 28/100\n",
            "691/691 [==============================] - 77s 111ms/step - loss: 1.4183 - accuracy: 0.4885 - val_loss: 1.3277 - val_accuracy: 0.4976 - lr: 0.0500\n",
            "Epoch 29/100\n",
            "691/691 [==============================] - 76s 109ms/step - loss: 1.3871 - accuracy: 0.4945 - val_loss: 1.3397 - val_accuracy: 0.5130 - lr: 0.0500\n",
            "Epoch 30/100\n",
            "691/691 [==============================] - 75s 109ms/step - loss: 1.3546 - accuracy: 0.5108 - val_loss: 1.2930 - val_accuracy: 0.5448 - lr: 0.0500\n",
            "Epoch 31/100\n",
            "691/691 [==============================] - 76s 110ms/step - loss: 1.3130 - accuracy: 0.5234 - val_loss: 1.2204 - val_accuracy: 0.5660 - lr: 0.0500\n",
            "Epoch 32/100\n",
            "691/691 [==============================] - 77s 111ms/step - loss: 1.2912 - accuracy: 0.5364 - val_loss: 1.1763 - val_accuracy: 0.5741 - lr: 0.0500\n",
            "Epoch 33/100\n",
            "691/691 [==============================] - 75s 109ms/step - loss: 1.2646 - accuracy: 0.5467 - val_loss: 1.6667 - val_accuracy: 0.5000 - lr: 0.0500\n",
            "Epoch 34/100\n",
            "691/691 [==============================] - 76s 111ms/step - loss: 1.2313 - accuracy: 0.5580 - val_loss: 1.1943 - val_accuracy: 0.5692 - lr: 0.0500\n",
            "Epoch 35/100\n",
            "691/691 [==============================] - 76s 110ms/step - loss: 1.2073 - accuracy: 0.5707 - val_loss: 1.2078 - val_accuracy: 0.5782 - lr: 0.0500\n",
            "Epoch 36/100\n",
            "691/691 [==============================] - 77s 111ms/step - loss: 1.1960 - accuracy: 0.5731 - val_loss: 1.3669 - val_accuracy: 0.5342 - lr: 0.0500\n",
            "Epoch 37/100\n",
            "691/691 [==============================] - 77s 112ms/step - loss: 1.1735 - accuracy: 0.5789 - val_loss: 1.1049 - val_accuracy: 0.6270 - lr: 0.0500\n",
            "Epoch 38/100\n",
            "691/691 [==============================] - 78s 113ms/step - loss: 1.1646 - accuracy: 0.5920 - val_loss: 1.0754 - val_accuracy: 0.5993 - lr: 0.0500\n",
            "Epoch 39/100\n",
            "691/691 [==============================] - 76s 109ms/step - loss: 1.1346 - accuracy: 0.5976 - val_loss: 1.1138 - val_accuracy: 0.6018 - lr: 0.0500\n",
            "Epoch 40/100\n",
            "691/691 [==============================] - 76s 111ms/step - loss: 1.1300 - accuracy: 0.6002 - val_loss: 1.1631 - val_accuracy: 0.6042 - lr: 0.0500\n",
            "Epoch 41/100\n",
            "691/691 [==============================] - 77s 111ms/step - loss: 1.1069 - accuracy: 0.6098 - val_loss: 1.4360 - val_accuracy: 0.5204 - lr: 0.0500\n",
            "Epoch 42/100\n",
            "691/691 [==============================] - 79s 114ms/step - loss: 1.1006 - accuracy: 0.6142 - val_loss: 1.0628 - val_accuracy: 0.6156 - lr: 0.0500\n",
            "Epoch 43/100\n",
            "691/691 [==============================] - 77s 112ms/step - loss: 1.0924 - accuracy: 0.6135 - val_loss: 0.9902 - val_accuracy: 0.6458 - lr: 0.0500\n",
            "Epoch 44/100\n",
            "691/691 [==============================] - 77s 111ms/step - loss: 1.0560 - accuracy: 0.6284 - val_loss: 1.0009 - val_accuracy: 0.6319 - lr: 0.0500\n",
            "Epoch 45/100\n",
            "691/691 [==============================] - 77s 112ms/step - loss: 1.0445 - accuracy: 0.6344 - val_loss: 0.9510 - val_accuracy: 0.6718 - lr: 0.0500\n",
            "Epoch 46/100\n",
            "691/691 [==============================] - 76s 110ms/step - loss: 1.0348 - accuracy: 0.6406 - val_loss: 1.0503 - val_accuracy: 0.6368 - lr: 0.0500\n",
            "Epoch 47/100\n",
            "691/691 [==============================] - 76s 110ms/step - loss: 1.0264 - accuracy: 0.6438 - val_loss: 1.0546 - val_accuracy: 0.6458 - lr: 0.0500\n",
            "Epoch 48/100\n",
            "691/691 [==============================] - 75s 109ms/step - loss: 1.0217 - accuracy: 0.6468 - val_loss: 1.1717 - val_accuracy: 0.6466 - lr: 0.0500\n",
            "Epoch 49/100\n",
            "691/691 [==============================] - 76s 110ms/step - loss: 1.0056 - accuracy: 0.6559 - val_loss: 0.9705 - val_accuracy: 0.6767 - lr: 0.0500\n",
            "Epoch 50/100\n",
            "691/691 [==============================] - 77s 111ms/step - loss: 0.9972 - accuracy: 0.6602 - val_loss: 0.8757 - val_accuracy: 0.6930 - lr: 0.0500\n",
            "Epoch 51/100\n",
            "691/691 [==============================] - 77s 111ms/step - loss: 0.9873 - accuracy: 0.6590 - val_loss: 0.9058 - val_accuracy: 0.6824 - lr: 0.0500\n",
            "Epoch 52/100\n",
            "691/691 [==============================] - 76s 110ms/step - loss: 0.9875 - accuracy: 0.6590 - val_loss: 1.0335 - val_accuracy: 0.6401 - lr: 0.0500\n",
            "Epoch 53/100\n",
            "691/691 [==============================] - 76s 110ms/step - loss: 0.9667 - accuracy: 0.6643 - val_loss: 0.9588 - val_accuracy: 0.6555 - lr: 0.0500\n",
            "Epoch 54/100\n",
            "691/691 [==============================] - 75s 109ms/step - loss: 0.9594 - accuracy: 0.6690 - val_loss: 0.9664 - val_accuracy: 0.6702 - lr: 0.0500\n",
            "Epoch 55/100\n",
            "691/691 [==============================] - 76s 110ms/step - loss: 0.9616 - accuracy: 0.6676 - val_loss: 0.8625 - val_accuracy: 0.7060 - lr: 0.0500\n",
            "Epoch 56/100\n",
            "691/691 [==============================] - 76s 110ms/step - loss: 0.9510 - accuracy: 0.6706 - val_loss: 0.8689 - val_accuracy: 0.7093 - lr: 0.0500\n",
            "Epoch 57/100\n",
            "691/691 [==============================] - 75s 108ms/step - loss: 0.9510 - accuracy: 0.6712 - val_loss: 0.9060 - val_accuracy: 0.6922 - lr: 0.0500\n",
            "Epoch 58/100\n",
            "691/691 [==============================] - 74s 108ms/step - loss: 0.9394 - accuracy: 0.6743 - val_loss: 0.8766 - val_accuracy: 0.7044 - lr: 0.0500\n",
            "Epoch 59/100\n",
            "691/691 [==============================] - 75s 108ms/step - loss: 0.9346 - accuracy: 0.6819 - val_loss: 0.9482 - val_accuracy: 0.6580 - lr: 0.0500\n",
            "Epoch 60/100\n",
            "691/691 [==============================] - 75s 109ms/step - loss: 0.9248 - accuracy: 0.6810 - val_loss: 0.8858 - val_accuracy: 0.6857 - lr: 0.0500\n",
            "Epoch 61/100\n",
            "691/691 [==============================] - 75s 109ms/step - loss: 0.8723 - accuracy: 0.7035 - val_loss: 0.8246 - val_accuracy: 0.7085 - lr: 0.0250\n",
            "Epoch 62/100\n",
            "691/691 [==============================] - 77s 111ms/step - loss: 0.8579 - accuracy: 0.7126 - val_loss: 0.8071 - val_accuracy: 0.7353 - lr: 0.0250\n",
            "Epoch 63/100\n",
            "691/691 [==============================] - 75s 108ms/step - loss: 0.8441 - accuracy: 0.7155 - val_loss: 0.8567 - val_accuracy: 0.7044 - lr: 0.0250\n",
            "Epoch 64/100\n",
            "691/691 [==============================] - 76s 110ms/step - loss: 0.8457 - accuracy: 0.7135 - val_loss: 0.7985 - val_accuracy: 0.7231 - lr: 0.0250\n",
            "Epoch 65/100\n",
            "691/691 [==============================] - 75s 109ms/step - loss: 0.8284 - accuracy: 0.7227 - val_loss: 0.7920 - val_accuracy: 0.7239 - lr: 0.0250\n",
            "Epoch 66/100\n",
            "691/691 [==============================] - 75s 108ms/step - loss: 0.8325 - accuracy: 0.7232 - val_loss: 0.8033 - val_accuracy: 0.7296 - lr: 0.0250\n",
            "Epoch 67/100\n",
            "691/691 [==============================] - 75s 108ms/step - loss: 0.8195 - accuracy: 0.7239 - val_loss: 0.8397 - val_accuracy: 0.7150 - lr: 0.0250\n",
            "Epoch 68/100\n",
            "691/691 [==============================] - 75s 108ms/step - loss: 0.8184 - accuracy: 0.7234 - val_loss: 0.8092 - val_accuracy: 0.7215 - lr: 0.0250\n",
            "Epoch 69/100\n",
            "691/691 [==============================] - 75s 109ms/step - loss: 0.8163 - accuracy: 0.7213 - val_loss: 0.8296 - val_accuracy: 0.7068 - lr: 0.0250\n",
            "Epoch 70/100\n",
            "691/691 [==============================] - 75s 109ms/step - loss: 0.8214 - accuracy: 0.7230 - val_loss: 0.7991 - val_accuracy: 0.7280 - lr: 0.0250\n",
            "Epoch 71/100\n",
            "691/691 [==============================] - 76s 110ms/step - loss: 0.7744 - accuracy: 0.7397 - val_loss: 0.7645 - val_accuracy: 0.7370 - lr: 0.0125\n",
            "Epoch 72/100\n",
            "691/691 [==============================] - 77s 112ms/step - loss: 0.7744 - accuracy: 0.7408 - val_loss: 0.7580 - val_accuracy: 0.7337 - lr: 0.0125\n",
            "Epoch 73/100\n",
            "691/691 [==============================] - 75s 109ms/step - loss: 0.7683 - accuracy: 0.7457 - val_loss: 0.7585 - val_accuracy: 0.7435 - lr: 0.0125\n",
            "Epoch 74/100\n",
            "691/691 [==============================] - 75s 108ms/step - loss: 0.7694 - accuracy: 0.7430 - val_loss: 0.7729 - val_accuracy: 0.7329 - lr: 0.0125\n",
            "Epoch 75/100\n",
            "691/691 [==============================] - 74s 107ms/step - loss: 0.7589 - accuracy: 0.7451 - val_loss: 0.7914 - val_accuracy: 0.7329 - lr: 0.0125\n",
            "Epoch 76/100\n",
            "691/691 [==============================] - 74s 107ms/step - loss: 0.7497 - accuracy: 0.7541 - val_loss: 0.7689 - val_accuracy: 0.7313 - lr: 0.0125\n",
            "Epoch 77/100\n",
            "691/691 [==============================] - 74s 108ms/step - loss: 0.7509 - accuracy: 0.7494 - val_loss: 0.7799 - val_accuracy: 0.7410 - lr: 0.0125\n",
            "Epoch 78/100\n",
            "691/691 [==============================] - 74s 107ms/step - loss: 0.7323 - accuracy: 0.7551 - val_loss: 0.7650 - val_accuracy: 0.7402 - lr: 0.0063\n",
            "Epoch 79/100\n",
            "691/691 [==============================] - 73s 106ms/step - loss: 0.7243 - accuracy: 0.7608 - val_loss: 0.7598 - val_accuracy: 0.7370 - lr: 0.0063\n",
            "Epoch 80/100\n",
            "691/691 [==============================] - 74s 107ms/step - loss: 0.7356 - accuracy: 0.7566 - val_loss: 0.7540 - val_accuracy: 0.7321 - lr: 0.0063\n",
            "Epoch 81/100\n",
            "691/691 [==============================] - 73s 106ms/step - loss: 0.7213 - accuracy: 0.7563 - val_loss: 0.7763 - val_accuracy: 0.7410 - lr: 0.0063\n",
            "Epoch 82/100\n",
            "691/691 [==============================] - 72s 104ms/step - loss: 0.7196 - accuracy: 0.7557 - val_loss: 0.7624 - val_accuracy: 0.7394 - lr: 0.0063\n",
            "Epoch 83/100\n",
            "691/691 [==============================] - 73s 105ms/step - loss: 0.7264 - accuracy: 0.7578 - val_loss: 0.7752 - val_accuracy: 0.7410 - lr: 0.0063\n",
            "Epoch 84/100\n",
            "691/691 [==============================] - 72s 104ms/step - loss: 0.7182 - accuracy: 0.7588 - val_loss: 0.8091 - val_accuracy: 0.7256 - lr: 0.0063\n",
            "Epoch 85/100\n",
            "691/691 [==============================] - 73s 105ms/step - loss: 0.7142 - accuracy: 0.7577 - val_loss: 0.7707 - val_accuracy: 0.7248 - lr: 0.0063\n",
            "Epoch 86/100\n",
            "691/691 [==============================] - 73s 105ms/step - loss: 0.7017 - accuracy: 0.7665 - val_loss: 0.7757 - val_accuracy: 0.7296 - lr: 0.0031\n",
            "Epoch 87/100\n",
            "691/691 [==============================] - 72s 104ms/step - loss: 0.7018 - accuracy: 0.7658 - val_loss: 0.7730 - val_accuracy: 0.7239 - lr: 0.0031\n",
            "Epoch 88/100\n",
            "691/691 [==============================] - 71s 103ms/step - loss: 0.7064 - accuracy: 0.7634 - val_loss: 0.7689 - val_accuracy: 0.7296 - lr: 0.0031\n",
            "Epoch 89/100\n",
            "691/691 [==============================] - 73s 106ms/step - loss: 0.7035 - accuracy: 0.7711 - val_loss: 0.7613 - val_accuracy: 0.7353 - lr: 0.0031\n",
            "Epoch 90/100\n",
            "691/691 [==============================] - 73s 106ms/step - loss: 0.7045 - accuracy: 0.7657 - val_loss: 0.7727 - val_accuracy: 0.7394 - lr: 0.0031\n",
            "Epoch 91/100\n",
            "691/691 [==============================] - 74s 106ms/step - loss: 0.6906 - accuracy: 0.7717 - val_loss: 0.7717 - val_accuracy: 0.7386 - lr: 0.0016\n",
            "Epoch 92/100\n",
            "691/691 [==============================] - 73s 106ms/step - loss: 0.6862 - accuracy: 0.7733 - val_loss: 0.7657 - val_accuracy: 0.7345 - lr: 0.0016\n",
            "Epoch 93/100\n",
            "691/691 [==============================] - 73s 105ms/step - loss: 0.6940 - accuracy: 0.7668 - val_loss: 0.7639 - val_accuracy: 0.7362 - lr: 0.0016\n",
            "Epoch 94/100\n",
            "691/691 [==============================] - 73s 105ms/step - loss: 0.6906 - accuracy: 0.7711 - val_loss: 0.7645 - val_accuracy: 0.7394 - lr: 0.0016\n",
            "Epoch 95/100\n",
            "691/691 [==============================] - 73s 105ms/step - loss: 0.6923 - accuracy: 0.7704 - val_loss: 0.7643 - val_accuracy: 0.7386 - lr: 0.0016\n"
          ]
        }
      ],
      "source": [
        "# Training with MixUp, RandAug\n",
        "batch_size = 16\n",
        "epochs = 100\n",
        "learning_rate = 0.1\n",
        "checkpoint_filepath = '13072022_mixup_randaug/chckpt.ckpt'\n",
        "\n",
        "optimizer = tf.keras.optimizers.SGD(learning_rate=learning_rate, clipnorm=1.)\n",
        "loss = tf.keras.losses.CategoricalCrossentropy(from_logits=True, reduction=tf.losses.Reduction.NONE)\n",
        "\n",
        "model = classification_model()\n",
        "model.compile(optimizer=optimizer, loss=loss, metrics=['accuracy'])\n",
        "save_weights = tf.keras.callbacks.ModelCheckpoint(checkpoint_filepath, monitor=\"val_loss\", mode='min', save_best_only=True, save_weights_only=True)\n",
        "reduce_learning_rate = tf.keras.callbacks.ReduceLROnPlateau(monitor='val_loss',factor=0.5, patience=5, mode='min')\n",
        "early_stopping = EarlyStopping(monitor='val_loss', patience=15, mode='min', restore_best_weights=True)\n",
        "\n",
        "history = model.fit(datagen_train.flow(X_train, Y_train, batch_size=batch_size), epochs=epochs, validation_data=(X_dev, Y_dev), callbacks=[save_weights, reduce_learning_rate, early_stopping])"
      ]
    },
    {
      "cell_type": "code",
      "execution_count": null,
      "id": "07b57c41-72bd-4448-a91e-5acbbc557dbc",
      "metadata": {
        "id": "07b57c41-72bd-4448-a91e-5acbbc557dbc",
        "outputId": "df690b1e-73b1-4e01-8b14-8621454a58c4"
      },
      "outputs": [
        {
          "name": "stdout",
          "output_type": "stream",
          "text": [
            "96/96 [==============================] - 2s 20ms/step - loss: 0.6797 - accuracy: 0.7696\n",
            "model loss: 0.6797215938568115%\n",
            "model accuracy: 0.7695567011833191%\n"
          ]
        }
      ],
      "source": [
        "loss, accuracy = model.evaluate(X_test, Y_test)\n",
        "print('model loss: {}%'.format(loss))\n",
        "print('model accuracy: {}%'.format(accuracy))"
      ]
    },
    {
      "cell_type": "code",
      "execution_count": null,
      "id": "257b3108-e49c-45f4-b5ab-2ad1c8b8e8c9",
      "metadata": {
        "scrolled": true,
        "tags": [],
        "id": "257b3108-e49c-45f4-b5ab-2ad1c8b8e8c9",
        "outputId": "e9904381-874b-499b-af56-5924aec167af"
      },
      "outputs": [
        {
          "name": "stdout",
          "output_type": "stream",
          "text": [
            "dict_keys(['loss', 'accuracy', 'val_loss', 'val_accuracy', 'lr'])\n"
          ]
        },
        {
          "data": {
            "image/png": "[encoded data removed]",
            "text/plain": [
              "<Figure size 432x288 with 1 Axes>"
            ]
          },
          "metadata": {
            "needs_background": "light"
          },
          "output_type": "display_data"
        },
        {
          "data": {
            "image/png": "[encoded data removed]",
            "text/plain": [
              "<Figure size 432x288 with 1 Axes>"
            ]
          },
          "metadata": {
            "needs_background": "light"
          },
          "output_type": "display_data"
        }
      ],
      "source": [
        "print_graphs(history)"
      ]
    }
  ],
  "metadata": {
    "kernelspec": {
      "display_name": "Python 3 (ipykernel)",
      "language": "python",
      "name": "python3"
    },
    "language_info": {
      "codemirror_mode": {
        "name": "ipython",
        "version": 3
      },
      "file_extension": ".py",
      "mimetype": "text/x-python",
      "name": "python",
      "nbconvert_exporter": "python",
      "pygments_lexer": "ipython3",
      "version": "3.8.10"
    },
    "colab": {
      "name": "Ghostface - Mixup + Combination.ipynb",
      "provenance": [],
      "collapsed_sections": []
    }
  },
  "nbformat": 4,
  "nbformat_minor": 5
}