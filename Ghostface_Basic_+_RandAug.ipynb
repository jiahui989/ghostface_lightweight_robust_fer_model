{
  "cells": [
    {
      "cell_type": "code",
      "source": [
        "# Download dependencies\n",
        "!pip install imgaug\n",
        "!apt-get update && apt-get install -y python3-opencv\n",
        "!pip install keras-flops\n",
        "\n",
        "# Import libraries\n",
        "%matplotlib inline\n",
        "import matplotlib.pyplot as plt\n",
        "import cv2\n",
        "import numpy as np\n",
        "import tensorflow as tf\n",
        "from tensorflow.keras import layers\n",
        "from tensorflow.keras.preprocessing.image import ImageDataGenerator\n",
        "from tensorflow.keras.callbacks import EarlyStopping, ReduceLROnPlateau, ModelCheckpoint\n",
        "from keras.utils.layer_utils import count_params\n",
        "from keras_flops import get_flops\n",
        "import sys\n",
        "import os\n",
        "import random\n",
        "from imgaug import augmenters as iaa\n",
        "\n",
        "# function: print train and val loss and accuracy \n",
        "def print_graphs(history_record):\n",
        "    print(history_record.history.keys())\n",
        "    # summarize history for accuracy\n",
        "    plt.plot(history_record.history['accuracy'])\n",
        "    plt.plot(history_record.history['val_accuracy'])\n",
        "    plt.title('model accuracy')\n",
        "    plt.ylabel('accuracy')\n",
        "    plt.xlabel('epoch')\n",
        "    plt.legend(['train', 'test'], loc='upper left')\n",
        "    plt.show()\n",
        "  \n",
        "    # summarize history for loss\n",
        "    plt.plot(history_record.history['loss'])\n",
        "    plt.plot(history_record.history['val_loss'])\n",
        "    plt.title('model loss')\n",
        "    plt.ylabel('loss')\n",
        "    plt.xlabel('epoch')\n",
        "    plt.legend(['train', 'test'], loc='upper left')\n",
        "    plt.show()\n",
        "\n",
        "# function: gradcam visualization on GHOSTFACE's attention\n",
        "def plot_gradcam(index_img, model):\n",
        "    \n",
        "    emotion_dict = {0:\"Surprise\", 1:\"Fear\", 2: \"Disgusted\", 3: \"Happiness\", 4: \"Sadness\", 5: \"Anger\", 6: \"Neutral\"}\n",
        "    \n",
        "    # Plot test images\n",
        "    image = X_test[index_img]\n",
        "    \n",
        "    # output of last convolution layer\n",
        "    last_conv_layer_name = 'block162_conv_1'\n",
        "    last_conv_layer = model.get_layer(last_conv_layer_name)\n",
        "    last_conv_layer_model = tf.keras.Model(model.inputs, last_conv_layer.output)\n",
        "\n",
        "    # create model that takes the output of the model above, uses the remaining layers to get final predictions\n",
        "    classifier_input = tf.keras.Input(shape=last_conv_layer.output.shape[1:])\n",
        "    x = classifier_input\n",
        "\n",
        "    #     TO DO: ADD LAYERS GLOBAL AVERAGE POOLING AND DENSE LAYER\n",
        "    for layer_name in [\"global_average_pooling\", \"fc1\", \"classifier\"]:\n",
        "        x = model.get_layer(layer_name)(x)\n",
        "    classifier_model = tf.keras.Model(classifier_input, x)\n",
        "\n",
        "    with tf.GradientTape() as tape:\n",
        "        inputs = image[np.newaxis, ...]\n",
        "        last_conv_layer_output = last_conv_layer_model(inputs)\n",
        "        tape.watch(last_conv_layer_output)\n",
        "        preds = classifier_model(last_conv_layer_output)\n",
        "        top_pred_index = tf.argmax(preds[0])\n",
        "        top_class_channel = preds[:, top_pred_index]\n",
        "\n",
        "    grads = tape.gradient(top_class_channel, last_conv_layer_output)\n",
        "    pooled_grads = tf.reduce_mean(grads, axis=(0, 1, 2))\n",
        "    last_conv_layer_output = last_conv_layer_output.numpy()[0]\n",
        "    pooled_grads = pooled_grads.numpy()\n",
        "    for i in range(pooled_grads.shape[-1]):\n",
        "        last_conv_layer_output[:, :, i] *= pooled_grads[i]\n",
        "\n",
        "    gradcam = np.mean(last_conv_layer_output, axis=-1)\n",
        "    gradcam = np.clip(gradcam, 0, np.max(gradcam)) / np.max(gradcam)\n",
        "    gradcam = cv2.resize(gradcam, (224, 224))\n",
        "\n",
        "    plt.figure(figsize=(7, 7))\n",
        "    \n",
        "    ax = plt.subplot(1, 2, 1)\n",
        "    plt.imshow(image.astype('uint8'))\n",
        "    plt.axis('off')\n",
        "    plt.title('Original Image: {}'.format(emotion_dict[np.argmax(Y_test[index_img])]))\n",
        "    \n",
        "    ax = plt.subplot(1, 2, 2)\n",
        "    plt.imshow(image.astype('uint8'))\n",
        "    plt.imshow(gradcam, alpha=0.5)\n",
        "    plt.axis('off')\n",
        "    plt.title('Predicted: {}'.format(emotion_dict[np.argmax(model.predict(X_test[index_img][tf.newaxis, ...]))]))\n",
        "    plt.tight_layout()\n",
        "    plt.show()"
      ],
      "metadata": {
        "id": "lPqp4iWzzi9Y"
      },
      "id": "lPqp4iWzzi9Y",
      "execution_count": null,
      "outputs": []
    },
    {
      "cell_type": "code",
      "execution_count": null,
      "id": "10b3eff4-fe98-44d1-8881-e79fce3f510a",
      "metadata": {
        "id": "10b3eff4-fe98-44d1-8881-e79fce3f510a",
        "outputId": "a25b6118-ae29-4d53-a12c-a7372124abc0"
      },
      "outputs": [
        {
          "name": "stdout",
          "output_type": "stream",
          "text": [
            "(11043, 224, 224, 3) (11043, 7)\n",
            "(1228, 224, 224, 3) (1228, 7)\n",
            "(3068, 224, 224, 3) (3068, 7)\n"
          ]
        }
      ],
      "source": [
        "# Import RAF-DB data set\n",
        "X_train = np.load('rafdb/X_train_rafdb.npy')\n",
        "Y_train = np.load('rafdb/Y_train_rafdb.npy')\n",
        "X_dev = np.load('rafdb/X_val_rafdb.npy')\n",
        "Y_dev = np.load('rafdb/Y_val_rafdb.npy')\n",
        "X_test = np.load('rafdb/X_test_rafdb.npy')\n",
        "Y_test = np.load('rafdb/Y_test_rafdb.npy')\n",
        "\n",
        "print(X_train.shape, Y_train.shape)\n",
        "print(X_dev.shape, Y_dev.shape)\n",
        "print(X_test.shape, Y_test.shape)"
      ]
    },
    {
      "cell_type": "code",
      "source": [
        "# Triplet Attention Module\n",
        "def TripletAttention(x, block_code):\n",
        "\n",
        "    permute_hw = tf.keras.layers.Permute((1, 2, 3))(x)\n",
        "    concat_hw = tf.keras.layers.Concatenate(axis=-1)([tf.expand_dims(tf.math.reduce_max(permute_hw, axis=-1), axis=-1), tf.expand_dims(tf.math.reduce_mean(permute_hw, axis=-1), axis=-1)])\n",
        "    conv_hw = tf.keras.layers.Conv2D(filters=1, kernel_size=7, strides=1, padding='same', data_format='channels_last')(concat_hw)\n",
        "    batchnorm_hw = tf.keras.layers.BatchNormalization()(conv_hw)\n",
        "    sig_act_hw = tf.keras.layers.Activation('sigmoid')(batchnorm_hw)\n",
        "    skipconn_hw = tf.keras.layers.Multiply()([sig_act_hw, permute_hw])\n",
        "\n",
        "    permute_w = tf.keras.layers.Permute((1, 3, 2))(x)\n",
        "    concat_w = tf.keras.layers.Concatenate(axis=-1)([tf.expand_dims(tf.math.reduce_max(permute_w, axis=-1), axis=-1), tf.expand_dims(tf.math.reduce_mean(permute_w, axis=-1), axis=-1)])\n",
        "    conv_w = tf.keras.layers.Conv2D(filters=1, kernel_size=7, strides=1, padding='same', data_format='channels_last')(concat_w)\n",
        "    batchnorm_w = tf.keras.layers.BatchNormalization()(conv_w)\n",
        "    sig_act_w = tf.keras.layers.Activation('sigmoid')(batchnorm_w)\n",
        "    skipconn_w = tf.keras.layers.Multiply()([sig_act_w, permute_w])\n",
        "    repermute_w = tf.keras.layers.Permute((1, 3, 2))(skipconn_w)\n",
        "\n",
        "    permute_h = tf.keras.layers.Permute((3, 1, 2), name= 'block' + str(block_code) + '_permute1_h')(x)\n",
        "    concat_h = tf.keras.layers.Concatenate(axis=-1, name= 'block' + str(block_code) + '_concat_h')([tf.expand_dims(tf.math.reduce_max(permute_h, axis=-1), axis=-1), tf.expand_dims(tf.math.reduce_mean(permute_h, axis=-1), axis=-1)])\n",
        "    conv_h = tf.keras.layers.Conv2D(filters=1, kernel_size=7, strides=1, padding='same', data_format='channels_last', name= 'block' + str(block_code) + '_conv_h')(concat_h)\n",
        "    batchnorm_h = tf.keras.layers.BatchNormalization(name= 'block' + str(block_code) + '_batchnorm_h')(conv_h)\n",
        "    sig_act_h = tf.keras.layers.Activation('sigmoid', name= 'block' + str(block_code) + '_sigmoid_h')(batchnorm_h)\n",
        "    skipconn_h = tf.keras.layers.Multiply(name= 'block' + str(block_code) + '_mult_h')([sig_act_h, permute_h])\n",
        "    repermute_h = tf.keras.layers.Permute((3, 2, 1), name= 'block' + str(block_code) + '_permute2_h')(skipconn_h)\n",
        "\n",
        "    average_lyr = tf.keras.layers.Average(name='block' + str(block_code) + '_average')([skipconn_hw, repermute_w, repermute_h])\n",
        "    return average_lyr\n",
        "\n",
        "# Fused MB-Convolution Module\n",
        "def fused_conv(x, block_num, filters, strides, attention=False):\n",
        "    x1 = layers.Conv2D(filters=filters, kernel_size=3, strides=strides, padding='same', use_bias=False, name='block'+str(block_num)+'_conv_1')(x)\n",
        "    x1 = layers.BatchNormalization(name='block'+str(block_num)+'_batchnorm_1')(x1)\n",
        "    x1 = layers.Activation('relu', name='block'+str(block_num)+'_relu_1')(x1)\n",
        "    \n",
        "    if attention == True:\n",
        "        x1 = TripletAttention(x1, block_num)\n",
        "\n",
        "    x2 = layers.Conv2D(filters=filters, kernel_size=strides, strides=strides, padding='same', use_bias=False, name='block'+str(block_num)+'_conv_2')(x1)\n",
        "    x2 = layers.BatchNormalization(name='block'+str(block_num)+'_batchnorm_2')(x2)\n",
        "\n",
        "    if strides!=2:\n",
        "        x3 = layers.Add(name='block'+str(block_num)+'_add')([x, x2])\n",
        "    else:\n",
        "        x3 = x2\n",
        "        \n",
        "    return x3\n",
        "\n",
        "# Ghost Module\n",
        "def ghostnet_module(x, block_num, filters, kernel_size, strides=1, activation=True):\n",
        "    x1 = layers.Conv2D(filters=filters, kernel_size=kernel_size, strides=1, padding='same', use_bias=False, name='block'+str(block_num)+'_conv_1')(x)\n",
        "    x1 = layers.BatchNormalization(name='block'+str(block_num)+'_batchnorm_1')(x1)\n",
        "    x1 = layers.Activation('relu', name='block'+str(block_num)+'_relu1')(x1)\n",
        "    \n",
        "    x2 = layers.DepthwiseConv2D(kernel_size=kernel_size, strides=strides, padding='same', use_bias=False, name='block'+str(block_num)+'_dwconv_1')(x1)\n",
        "    x2 = layers.BatchNormalization(name='block'+str(block_num)+'_batchnorm_2')(x2)\n",
        "    if activation==True:\n",
        "        x2 = layers.Activation('relu', name='block'+str(block_num)+'_relu2')(x2)\n",
        "    \n",
        "    x3 = layers.Add(name='block'+str(block_num)+'_add')([x1, x2])\n",
        "    return x3\n",
        "\n",
        "# Attention GhostNet Bottleneck Module\n",
        "def ghostnet_bottleneck(x, block_num, filters, strides, kernel_size=3):\n",
        "          \n",
        "    x1 = ghostnet_module(x, str(block_num) + '1', filters, kernel_size, strides=1, activation=True)\n",
        "    x1 = layers.BatchNormalization(name='block'+str(block_num)+'_batchnorm_1')(x1)\n",
        "    x1 = layers.Activation('relu', name='block'+str(block_num)+'_relu_1')(x1)\n",
        "    \n",
        "    x1 = TripletAttention(x1, block_num)\n",
        "    \n",
        "    x2 = ghostnet_module(x1, str(block_num) + '2', filters, kernel_size, strides=1, activation=False)\n",
        "    x2 = layers.BatchNormalization(name='block'+str(block_num)+'_batchnorm_2')(x2)\n",
        "    \n",
        "    b0, h0, w0, c0 = x2.shape \n",
        "    if strides>1:\n",
        "        if c0!=filters*2:\n",
        "            x = layers.DepthwiseConv2D(kernel_size=1, strides=1, padding='same', use_bias=False, name='block'+str(block_num)+'_downsample_dwconv_correction')(x)\n",
        "            x = layers.Conv2D(filters=filters, kernel_size=1, strides=1, padding='same', use_bias=False, name='block'+str(block_num)+'_downsample_conv_correction')(x)\n",
        "        \n",
        "        x3 = layers.Add(name='block'+str(block_num)+'_add')([x, x2])\n",
        "        x3 = layers.DepthwiseConv2D(kernel_size=kernel_size, strides=2, padding='same', use_bias=False, name='block'+str(block_num)+'_downsample_dwconv1')(x3)\n",
        "    else:\n",
        "        x3 = layers.Add(name='block'+str(block_num)+'_add')([x, x2])\n",
        "\n",
        "    return x3\n",
        "\n",
        "# GHOSTFACE CLASSIFICATION MODEL \n",
        "def classification_model(input_shape=(224, 224, 3)):\n",
        "    input_lyr = tf.keras.layers.Input(input_shape)\n",
        "    \n",
        "    norm = normalizer(input_lyr)\n",
        "    \n",
        "    x = layers.Conv2D(filters=8, kernel_size=5, strides=2, padding='same', use_bias=False, name='normal_conv_1')(norm)\n",
        "    x = layers.BatchNormalization(name='normal_bn_1')(x)\n",
        "    x = layers.Activation('relu', name='normal_relu')(x)\n",
        "    \n",
        "    x = fused_conv(x=x, block_num=1, filters=8, strides=1)\n",
        "    x = fused_conv(x=x, block_num=2, filters=8, strides=1)\n",
        "    x = fused_conv(x=x, block_num=3, filters=8, strides=1, attention=True)\n",
        "    \n",
        "    x = fused_conv(x=x, block_num=4, filters=16, strides=2, attention=True)\n",
        "    x = fused_conv(x=x, block_num=5, filters=16, strides=1)\n",
        "    x = fused_conv(x=x, block_num=6, filters=16, strides=1, attention=True)\n",
        "    \n",
        "    x = ghostnet_bottleneck(x=x, block_num=7, filters=16, kernel_size=3, strides=2)\n",
        "    x = ghostnet_bottleneck(x=x, block_num=8, filters=16, kernel_size=3, strides=1)\n",
        "    x = ghostnet_bottleneck(x=x, block_num=9, filters=16, kernel_size=3, strides=1)\n",
        "    x = ghostnet_bottleneck(x=x, block_num=10, filters=16, kernel_size=3, strides=1)\n",
        "    \n",
        "    x = ghostnet_bottleneck(x=x, block_num=11, filters=32, kernel_size=3, strides=2)\n",
        "    x = ghostnet_bottleneck(x=x, block_num=12, filters=32, kernel_size=3, strides=1)\n",
        "    x = ghostnet_bottleneck(x=x, block_num=13, filters=32, kernel_size=3, strides=1)\n",
        "    \n",
        "    x = ghostnet_bottleneck(x=x, block_num=14, filters=64, kernel_size=3, strides=2)\n",
        "    x = ghostnet_bottleneck(x=x, block_num=15, filters=128, kernel_size=3, strides=2)\n",
        "    x = ghostnet_bottleneck(x=x, block_num=16, filters=240, kernel_size=3, strides=2)\n",
        "    \n",
        "    # Classifier\n",
        "    gap = layers.GlobalAveragePooling2D(name='global_average_pooling')(x)\n",
        "    dense_layer_1 = layers.Dense(240, name='fc1')(gap)\n",
        "    emotion_classifier = layers.Dense(7, name='classifier')(dense_layer_1)\n",
        "    model = tf.keras.Model(inputs=input_lyr, outputs = emotion_classifier)\n",
        "    return model"
      ],
      "metadata": {
        "id": "3SrYY3yP2jL9"
      },
      "id": "3SrYY3yP2jL9",
      "execution_count": 4,
      "outputs": []
    },
    {
      "cell_type": "code",
      "execution_count": null,
      "id": "c0e8ac36-893a-42c0-9bc3-48900d8e2ee2",
      "metadata": {
        "scrolled": true,
        "tags": [],
        "id": "c0e8ac36-893a-42c0-9bc3-48900d8e2ee2",
        "outputId": "ef9fef10-45bb-4a38-d600-f4490efc4ac0"
      },
      "outputs": [
        {
          "name": "stderr",
          "output_type": "stream",
          "text": [
            "2022-06-05 07:41:05.995089: I tensorflow/stream_executor/cuda/cuda_gpu_executor.cc:1052] successful NUMA node read from SysFS had negative value (-1), but there must be at least one NUMA node, so returning NUMA node zero\n",
            "2022-06-05 07:41:06.046627: I tensorflow/stream_executor/cuda/cuda_gpu_executor.cc:1052] successful NUMA node read from SysFS had negative value (-1), but there must be at least one NUMA node, so returning NUMA node zero\n",
            "2022-06-05 07:41:06.047056: I tensorflow/stream_executor/cuda/cuda_gpu_executor.cc:1052] successful NUMA node read from SysFS had negative value (-1), but there must be at least one NUMA node, so returning NUMA node zero\n",
            "2022-06-05 07:41:06.049397: I tensorflow/stream_executor/cuda/cuda_gpu_executor.cc:1052] successful NUMA node read from SysFS had negative value (-1), but there must be at least one NUMA node, so returning NUMA node zero\n",
            "2022-06-05 07:41:06.049834: I tensorflow/stream_executor/cuda/cuda_gpu_executor.cc:1052] successful NUMA node read from SysFS had negative value (-1), but there must be at least one NUMA node, so returning NUMA node zero\n",
            "2022-06-05 07:41:06.050167: I tensorflow/stream_executor/cuda/cuda_gpu_executor.cc:1052] successful NUMA node read from SysFS had negative value (-1), but there must be at least one NUMA node, so returning NUMA node zero\n",
            "2022-06-05 07:41:07.066515: I tensorflow/stream_executor/cuda/cuda_gpu_executor.cc:1052] successful NUMA node read from SysFS had negative value (-1), but there must be at least one NUMA node, so returning NUMA node zero\n",
            "2022-06-05 07:41:07.066776: I tensorflow/stream_executor/cuda/cuda_gpu_executor.cc:1052] successful NUMA node read from SysFS had negative value (-1), but there must be at least one NUMA node, so returning NUMA node zero\n",
            "2022-06-05 07:41:07.066983: I tensorflow/stream_executor/cuda/cuda_gpu_executor.cc:1052] successful NUMA node read from SysFS had negative value (-1), but there must be at least one NUMA node, so returning NUMA node zero\n",
            "2022-06-05 07:41:07.067164: I tensorflow/core/common_runtime/gpu/gpu_device.cc:1525] Created device /job:localhost/replica:0/task:0/device:GPU:0 with 15384 MB memory:  -> device: 0, name: Quadro P5000, pci bus id: 0000:00:05.0, compute capability: 6.1\n",
            "2022-06-05 07:41:07.369035: W tensorflow/core/framework/cpu_allocator_impl.cc:82] Allocation of 6649122816 exceeds 10% of free system memory.\n",
            "2022-06-05 07:41:13.600248: W tensorflow/core/framework/cpu_allocator_impl.cc:82] Allocation of 6649122816 exceeds 10% of free system memory.\n"
          ]
        }
      ],
      "source": [
        "normalizer = tf.keras.layers.Normalization(axis=None)\n",
        "normalizer.adapt(X_train)"
      ]
    },
    {
      "cell_type": "code",
      "execution_count": 7,
      "id": "a99e7369-7deb-4ec5-8a27-929d6c4d1da0",
      "metadata": {
        "scrolled": true,
        "tags": [],
        "id": "a99e7369-7deb-4ec5-8a27-929d6c4d1da0",
        "outputId": "ea4b69fd-cf74-48a4-ac13-e2b368d22f50",
        "colab": {
          "base_uri": "https://localhost:8080/"
        }
      },
      "outputs": [
        {
          "output_type": "execute_result",
          "data": {
            "text/plain": [
              "134.655852"
            ]
          },
          "metadata": {},
          "execution_count": 7
        }
      ],
      "source": [
        "get_flops(classification_model())/10**6 # MFLOPS"
      ]
    },
    {
      "cell_type": "code",
      "source": [
        "count_params(classification_model().weights) # total params"
      ],
      "metadata": {
        "colab": {
          "base_uri": "https://localhost:8080/"
        },
        "id": "2RlWj1-i3Sho",
        "outputId": "850d210f-4269-41ae-e3aa-350d1727dcb7"
      },
      "id": "2RlWj1-i3Sho",
      "execution_count": 8,
      "outputs": [
        {
          "output_type": "execute_result",
          "data": {
            "text/plain": [
              "1285619"
            ]
          },
          "metadata": {},
          "execution_count": 8
        }
      ]
    },
    {
      "cell_type": "code",
      "source": [
        "count_params(classification_model().trainable_weights) # trainable params"
      ],
      "metadata": {
        "colab": {
          "base_uri": "https://localhost:8080/"
        },
        "id": "KoezaBsy3VJy",
        "outputId": "774bcaa1-137c-4a5e-d4f9-acafeda427a9"
      },
      "id": "KoezaBsy3VJy",
      "execution_count": 9,
      "outputs": [
        {
          "output_type": "execute_result",
          "data": {
            "text/plain": [
              "1278130"
            ]
          },
          "metadata": {},
          "execution_count": 9
        }
      ]
    },
    {
      "cell_type": "code",
      "execution_count": null,
      "id": "16b9cc0c-a7f1-4177-9fd5-560965e6270f",
      "metadata": {
        "id": "16b9cc0c-a7f1-4177-9fd5-560965e6270f"
      },
      "outputs": [],
      "source": [
        "datagen_train = ImageDataGenerator(rotation_range=25, horizontal_flip=True, \n",
        "                                   width_shift_range=0.25, height_shift_range=0.25)\n",
        "datagen_train.fit(X_train)"
      ]
    },
    {
      "cell_type": "code",
      "execution_count": null,
      "id": "7a7953e8-23f2-4092-8e7d-b8b6ec50aba3",
      "metadata": {
        "scrolled": true,
        "tags": [],
        "id": "7a7953e8-23f2-4092-8e7d-b8b6ec50aba3",
        "outputId": "bf6f1836-af28-43d9-c30d-ff9cdf587626"
      },
      "outputs": [
        {
          "name": "stdout",
          "output_type": "stream",
          "text": [
            "Epoch 1/100\n",
            "691/691 [==============================] - ETA: 0s - loss: 1.6620 - accuracy: 0.3782"
          ]
        },
        {
          "name": "stderr",
          "output_type": "stream",
          "text": [
            "2022-06-05 07:52:39.149868: W tensorflow/core/framework/cpu_allocator_impl.cc:82] Allocation of 739393536 exceeds 10% of free system memory.\n",
            "2022-06-05 07:52:39.878967: W tensorflow/core/framework/cpu_allocator_impl.cc:82] Allocation of 739393536 exceeds 10% of free system memory.\n"
          ]
        },
        {
          "name": "stdout",
          "output_type": "stream",
          "text": [
            "691/691 [==============================] - 146s 173ms/step - loss: 1.6620 - accuracy: 0.3782 - val_loss: 1.6427 - val_accuracy: 0.3884 - lr: 0.1000\n",
            "Epoch 2/100\n",
            "691/691 [==============================] - 114s 166ms/step - loss: 1.6386 - accuracy: 0.3854 - val_loss: 1.6255 - val_accuracy: 0.3827 - lr: 0.1000\n",
            "Epoch 3/100\n",
            "691/691 [==============================] - 114s 166ms/step - loss: 1.6340 - accuracy: 0.3869 - val_loss: 1.6176 - val_accuracy: 0.3950 - lr: 0.1000\n",
            "Epoch 4/100\n",
            "691/691 [==============================] - 112s 162ms/step - loss: 1.6329 - accuracy: 0.3855 - val_loss: 1.6282 - val_accuracy: 0.3941 - lr: 0.1000\n",
            "Epoch 5/100\n",
            "691/691 [==============================] - 112s 162ms/step - loss: 1.6278 - accuracy: 0.3882 - val_loss: 1.6260 - val_accuracy: 0.3893 - lr: 0.1000\n",
            "Epoch 6/100\n",
            "691/691 [==============================] - 112s 162ms/step - loss: 1.6295 - accuracy: 0.3872 - val_loss: 1.6329 - val_accuracy: 0.3958 - lr: 0.1000\n",
            "Epoch 7/100\n",
            "691/691 [==============================] - 112s 162ms/step - loss: 1.6247 - accuracy: 0.3903 - val_loss: 1.6238 - val_accuracy: 0.3852 - lr: 0.1000\n",
            "Epoch 8/100\n",
            "691/691 [==============================] - 115s 166ms/step - loss: 1.6236 - accuracy: 0.3856 - val_loss: 1.6086 - val_accuracy: 0.3901 - lr: 0.1000\n",
            "Epoch 9/100\n",
            "691/691 [==============================] - 114s 164ms/step - loss: 1.6207 - accuracy: 0.3860 - val_loss: 1.6045 - val_accuracy: 0.3917 - lr: 0.1000\n",
            "Epoch 10/100\n",
            "691/691 [==============================] - 111s 161ms/step - loss: 1.6208 - accuracy: 0.3853 - val_loss: 1.6099 - val_accuracy: 0.3893 - lr: 0.1000\n",
            "Epoch 11/100\n",
            "691/691 [==============================] - 112s 162ms/step - loss: 1.6175 - accuracy: 0.3920 - val_loss: 1.6153 - val_accuracy: 0.3819 - lr: 0.1000\n",
            "Epoch 12/100\n",
            "691/691 [==============================] - 114s 165ms/step - loss: 1.6144 - accuracy: 0.3868 - val_loss: 1.5957 - val_accuracy: 0.3827 - lr: 0.1000\n",
            "Epoch 13/100\n",
            "691/691 [==============================] - 114s 164ms/step - loss: 1.6106 - accuracy: 0.3883 - val_loss: 1.6087 - val_accuracy: 0.3860 - lr: 0.1000\n",
            "Epoch 14/100\n",
            "691/691 [==============================] - 112s 162ms/step - loss: 1.6070 - accuracy: 0.3906 - val_loss: 1.6156 - val_accuracy: 0.3860 - lr: 0.1000\n",
            "Epoch 15/100\n",
            "691/691 [==============================] - 114s 165ms/step - loss: 1.6028 - accuracy: 0.3931 - val_loss: 1.5835 - val_accuracy: 0.4121 - lr: 0.1000\n",
            "Epoch 16/100\n",
            "691/691 [==============================] - 114s 164ms/step - loss: 1.5940 - accuracy: 0.3907 - val_loss: 1.5789 - val_accuracy: 0.3982 - lr: 0.1000\n",
            "Epoch 17/100\n",
            "691/691 [==============================] - 112s 162ms/step - loss: 1.5807 - accuracy: 0.3987 - val_loss: 1.5809 - val_accuracy: 0.4112 - lr: 0.1000\n",
            "Epoch 18/100\n",
            "691/691 [==============================] - 116s 168ms/step - loss: 1.5569 - accuracy: 0.4172 - val_loss: 1.4606 - val_accuracy: 0.4617 - lr: 0.1000\n",
            "Epoch 19/100\n",
            "691/691 [==============================] - 113s 163ms/step - loss: 1.5165 - accuracy: 0.4362 - val_loss: 1.7979 - val_accuracy: 0.3876 - lr: 0.1000\n",
            "Epoch 20/100\n",
            "691/691 [==============================] - 115s 166ms/step - loss: 1.4734 - accuracy: 0.4572 - val_loss: 1.4363 - val_accuracy: 0.4813 - lr: 0.1000\n",
            "Epoch 21/100\n",
            "691/691 [==============================] - 116s 167ms/step - loss: 1.4359 - accuracy: 0.4740 - val_loss: 1.4318 - val_accuracy: 0.4715 - lr: 0.1000\n",
            "Epoch 22/100\n",
            "691/691 [==============================] - 115s 166ms/step - loss: 1.3928 - accuracy: 0.4896 - val_loss: 1.3794 - val_accuracy: 0.5318 - lr: 0.1000\n",
            "Epoch 23/100\n",
            "691/691 [==============================] - 112s 162ms/step - loss: 1.3543 - accuracy: 0.5113 - val_loss: 1.4001 - val_accuracy: 0.4976 - lr: 0.1000\n",
            "Epoch 24/100\n",
            "691/691 [==============================] - 114s 165ms/step - loss: 1.3156 - accuracy: 0.5275 - val_loss: 1.3344 - val_accuracy: 0.5269 - lr: 0.1000\n",
            "Epoch 25/100\n",
            "691/691 [==============================] - 112s 162ms/step - loss: 1.2683 - accuracy: 0.5424 - val_loss: 1.3753 - val_accuracy: 0.5562 - lr: 0.1000\n",
            "Epoch 26/100\n",
            "691/691 [==============================] - 114s 164ms/step - loss: 1.2283 - accuracy: 0.5640 - val_loss: 1.2110 - val_accuracy: 0.5651 - lr: 0.1000\n",
            "Epoch 27/100\n",
            "691/691 [==============================] - 114s 165ms/step - loss: 1.2114 - accuracy: 0.5671 - val_loss: 1.2058 - val_accuracy: 0.5749 - lr: 0.1000\n",
            "Epoch 28/100\n",
            "691/691 [==============================] - 114s 165ms/step - loss: 1.1873 - accuracy: 0.5776 - val_loss: 1.1947 - val_accuracy: 0.6018 - lr: 0.1000\n",
            "Epoch 29/100\n",
            "691/691 [==============================] - 113s 164ms/step - loss: 1.1690 - accuracy: 0.5845 - val_loss: 1.1925 - val_accuracy: 0.5757 - lr: 0.1000\n",
            "Epoch 30/100\n",
            "691/691 [==============================] - 112s 162ms/step - loss: 1.1480 - accuracy: 0.5946 - val_loss: 1.4069 - val_accuracy: 0.5073 - lr: 0.1000\n",
            "Epoch 31/100\n",
            "691/691 [==============================] - 111s 161ms/step - loss: 1.1226 - accuracy: 0.5982 - val_loss: 1.7616 - val_accuracy: 0.5578 - lr: 0.1000\n",
            "Epoch 32/100\n",
            "691/691 [==============================] - 115s 166ms/step - loss: 1.1116 - accuracy: 0.6088 - val_loss: 1.1502 - val_accuracy: 0.5993 - lr: 0.1000\n",
            "Epoch 33/100\n",
            "691/691 [==============================] - 113s 163ms/step - loss: 1.1009 - accuracy: 0.6111 - val_loss: 1.2713 - val_accuracy: 0.5301 - lr: 0.1000\n",
            "Epoch 34/100\n",
            "691/691 [==============================] - 117s 169ms/step - loss: 1.0741 - accuracy: 0.6246 - val_loss: 1.0683 - val_accuracy: 0.6116 - lr: 0.1000\n",
            "Epoch 35/100\n",
            "691/691 [==============================] - 112s 161ms/step - loss: 1.0593 - accuracy: 0.6272 - val_loss: 1.1711 - val_accuracy: 0.5774 - lr: 0.1000\n",
            "Epoch 36/100\n",
            "691/691 [==============================] - 112s 162ms/step - loss: 1.0438 - accuracy: 0.6289 - val_loss: 1.0822 - val_accuracy: 0.6140 - lr: 0.1000\n",
            "Epoch 37/100\n",
            "691/691 [==============================] - 112s 162ms/step - loss: 1.0381 - accuracy: 0.6338 - val_loss: 1.0950 - val_accuracy: 0.6238 - lr: 0.1000\n",
            "Epoch 38/100\n",
            "691/691 [==============================] - 115s 166ms/step - loss: 1.0316 - accuracy: 0.6332 - val_loss: 0.9543 - val_accuracy: 0.6564 - lr: 0.1000\n",
            "Epoch 39/100\n",
            "691/691 [==============================] - 112s 162ms/step - loss: 1.0101 - accuracy: 0.6448 - val_loss: 1.4527 - val_accuracy: 0.5375 - lr: 0.1000\n",
            "Epoch 40/100\n",
            "691/691 [==============================] - 114s 164ms/step - loss: 1.0101 - accuracy: 0.6483 - val_loss: 1.0251 - val_accuracy: 0.6287 - lr: 0.1000\n",
            "Epoch 41/100\n",
            "691/691 [==============================] - 116s 167ms/step - loss: 1.0024 - accuracy: 0.6486 - val_loss: 1.0589 - val_accuracy: 0.6384 - lr: 0.1000\n",
            "Epoch 42/100\n",
            "691/691 [==============================] - 117s 169ms/step - loss: 0.9851 - accuracy: 0.6542 - val_loss: 0.9422 - val_accuracy: 0.6759 - lr: 0.1000\n",
            "Epoch 43/100\n",
            "691/691 [==============================] - 113s 164ms/step - loss: 0.9739 - accuracy: 0.6571 - val_loss: 0.9780 - val_accuracy: 0.6588 - lr: 0.1000\n",
            "Epoch 44/100\n",
            "691/691 [==============================] - 113s 163ms/step - loss: 0.9705 - accuracy: 0.6588 - val_loss: 1.1070 - val_accuracy: 0.6230 - lr: 0.1000\n",
            "Epoch 45/100\n",
            "691/691 [==============================] - 114s 164ms/step - loss: 0.9735 - accuracy: 0.6611 - val_loss: 1.0196 - val_accuracy: 0.6441 - lr: 0.1000\n",
            "Epoch 46/100\n",
            "691/691 [==============================] - 115s 167ms/step - loss: 0.9706 - accuracy: 0.6607 - val_loss: 0.9272 - val_accuracy: 0.6767 - lr: 0.1000\n",
            "Epoch 47/100\n",
            "691/691 [==============================] - 119s 172ms/step - loss: 0.9594 - accuracy: 0.6640 - val_loss: 0.9150 - val_accuracy: 0.6849 - lr: 0.1000\n",
            "Epoch 48/100\n",
            "691/691 [==============================] - 113s 164ms/step - loss: 0.9596 - accuracy: 0.6632 - val_loss: 1.0319 - val_accuracy: 0.6458 - lr: 0.1000\n",
            "Epoch 49/100\n",
            "691/691 [==============================] - 114s 164ms/step - loss: 0.9472 - accuracy: 0.6657 - val_loss: 1.0759 - val_accuracy: 0.6270 - lr: 0.1000\n",
            "Epoch 50/100\n",
            "691/691 [==============================] - 113s 164ms/step - loss: 0.9486 - accuracy: 0.6718 - val_loss: 1.0169 - val_accuracy: 0.6311 - lr: 0.1000\n",
            "Epoch 51/100\n",
            "691/691 [==============================] - 112s 162ms/step - loss: 0.9379 - accuracy: 0.6739 - val_loss: 1.1263 - val_accuracy: 0.5969 - lr: 0.1000\n",
            "Epoch 52/100\n",
            "691/691 [==============================] - 113s 164ms/step - loss: 0.9279 - accuracy: 0.6741 - val_loss: 1.0046 - val_accuracy: 0.6450 - lr: 0.1000\n",
            "Epoch 53/100\n",
            "691/691 [==============================] - 114s 165ms/step - loss: 0.8482 - accuracy: 0.7012 - val_loss: 0.8534 - val_accuracy: 0.7060 - lr: 0.0500\n",
            "Epoch 54/100\n",
            "691/691 [==============================] - 115s 167ms/step - loss: 0.8313 - accuracy: 0.7085 - val_loss: 0.8440 - val_accuracy: 0.7028 - lr: 0.0500\n",
            "Epoch 55/100\n",
            "691/691 [==============================] - 114s 165ms/step - loss: 0.8284 - accuracy: 0.7131 - val_loss: 0.8767 - val_accuracy: 0.7150 - lr: 0.0500\n",
            "Epoch 56/100\n",
            "691/691 [==============================] - 116s 167ms/step - loss: 0.8152 - accuracy: 0.7147 - val_loss: 0.8274 - val_accuracy: 0.7085 - lr: 0.0500\n",
            "Epoch 57/100\n",
            "691/691 [==============================] - 115s 167ms/step - loss: 0.8209 - accuracy: 0.7132 - val_loss: 0.8044 - val_accuracy: 0.7158 - lr: 0.0500\n",
            "Epoch 58/100\n",
            "691/691 [==============================] - 112s 163ms/step - loss: 0.8161 - accuracy: 0.7138 - val_loss: 0.8270 - val_accuracy: 0.7182 - lr: 0.0500\n",
            "Epoch 59/100\n",
            "691/691 [==============================] - 112s 162ms/step - loss: 0.8066 - accuracy: 0.7166 - val_loss: 0.8166 - val_accuracy: 0.7020 - lr: 0.0500\n",
            "Epoch 60/100\n",
            "691/691 [==============================] - 112s 161ms/step - loss: 0.8109 - accuracy: 0.7160 - val_loss: 0.8205 - val_accuracy: 0.7150 - lr: 0.0500\n",
            "Epoch 61/100\n",
            "691/691 [==============================] - 112s 162ms/step - loss: 0.7952 - accuracy: 0.7234 - val_loss: 0.8593 - val_accuracy: 0.7150 - lr: 0.0500\n",
            "Epoch 62/100\n",
            "691/691 [==============================] - 112s 162ms/step - loss: 0.7961 - accuracy: 0.7208 - val_loss: 0.8575 - val_accuracy: 0.7117 - lr: 0.0500\n",
            "Epoch 63/100\n",
            "691/691 [==============================] - 120s 174ms/step - loss: 0.7488 - accuracy: 0.7429 - val_loss: 0.7957 - val_accuracy: 0.7313 - lr: 0.0250\n",
            "Epoch 64/100\n",
            "691/691 [==============================] - 112s 162ms/step - loss: 0.7299 - accuracy: 0.7446 - val_loss: 0.8261 - val_accuracy: 0.7182 - lr: 0.0250\n",
            "Epoch 65/100\n",
            "691/691 [==============================] - 115s 167ms/step - loss: 0.7296 - accuracy: 0.7450 - val_loss: 0.7663 - val_accuracy: 0.7329 - lr: 0.0250\n",
            "Epoch 66/100\n",
            "691/691 [==============================] - 112s 161ms/step - loss: 0.7301 - accuracy: 0.7398 - val_loss: 0.7981 - val_accuracy: 0.7337 - lr: 0.0250\n",
            "Epoch 67/100\n",
            "691/691 [==============================] - 112s 162ms/step - loss: 0.7261 - accuracy: 0.7429 - val_loss: 0.8296 - val_accuracy: 0.7199 - lr: 0.0250\n",
            "Epoch 68/100\n",
            "691/691 [==============================] - 111s 161ms/step - loss: 0.7269 - accuracy: 0.7457 - val_loss: 0.7853 - val_accuracy: 0.7386 - lr: 0.0250\n",
            "Epoch 69/100\n",
            "691/691 [==============================] - 112s 163ms/step - loss: 0.7161 - accuracy: 0.7534 - val_loss: 0.7775 - val_accuracy: 0.7427 - lr: 0.0250\n",
            "Epoch 70/100\n",
            "691/691 [==============================] - 112s 162ms/step - loss: 0.7190 - accuracy: 0.7477 - val_loss: 0.8019 - val_accuracy: 0.7296 - lr: 0.0250\n",
            "Epoch 71/100\n",
            "691/691 [==============================] - 111s 161ms/step - loss: 0.6914 - accuracy: 0.7560 - val_loss: 0.7753 - val_accuracy: 0.7410 - lr: 0.0125\n",
            "Epoch 72/100\n",
            "691/691 [==============================] - 112s 161ms/step - loss: 0.6860 - accuracy: 0.7599 - val_loss: 0.7712 - val_accuracy: 0.7524 - lr: 0.0125\n",
            "Epoch 73/100\n",
            "691/691 [==============================] - 113s 164ms/step - loss: 0.6863 - accuracy: 0.7581 - val_loss: 0.7669 - val_accuracy: 0.7467 - lr: 0.0125\n",
            "Epoch 74/100\n",
            "691/691 [==============================] - 113s 164ms/step - loss: 0.6874 - accuracy: 0.7614 - val_loss: 0.7956 - val_accuracy: 0.7321 - lr: 0.0125\n",
            "Epoch 75/100\n",
            "691/691 [==============================] - 112s 162ms/step - loss: 0.6770 - accuracy: 0.7612 - val_loss: 0.7991 - val_accuracy: 0.7410 - lr: 0.0125\n",
            "Epoch 76/100\n",
            "691/691 [==============================] - 114s 165ms/step - loss: 0.6623 - accuracy: 0.7673 - val_loss: 0.7416 - val_accuracy: 0.7557 - lr: 0.0063\n",
            "Epoch 77/100\n",
            "691/691 [==============================] - 113s 163ms/step - loss: 0.6677 - accuracy: 0.7627 - val_loss: 0.7501 - val_accuracy: 0.7516 - lr: 0.0063\n",
            "Epoch 78/100\n",
            "691/691 [==============================] - 116s 168ms/step - loss: 0.6685 - accuracy: 0.7646 - val_loss: 0.7406 - val_accuracy: 0.7459 - lr: 0.0063\n",
            "Epoch 79/100\n",
            "691/691 [==============================] - 111s 161ms/step - loss: 0.6605 - accuracy: 0.7685 - val_loss: 0.7715 - val_accuracy: 0.7459 - lr: 0.0063\n",
            "Epoch 80/100\n",
            "691/691 [==============================] - 115s 166ms/step - loss: 0.6591 - accuracy: 0.7659 - val_loss: 0.7388 - val_accuracy: 0.7581 - lr: 0.0063\n",
            "Epoch 81/100\n",
            "691/691 [==============================] - 114s 164ms/step - loss: 0.6602 - accuracy: 0.7664 - val_loss: 0.7469 - val_accuracy: 0.7533 - lr: 0.0063\n",
            "Epoch 82/100\n",
            "691/691 [==============================] - 111s 161ms/step - loss: 0.6580 - accuracy: 0.7723 - val_loss: 0.7392 - val_accuracy: 0.7606 - lr: 0.0063\n",
            "Epoch 83/100\n",
            "691/691 [==============================] - 111s 161ms/step - loss: 0.6577 - accuracy: 0.7703 - val_loss: 0.7437 - val_accuracy: 0.7533 - lr: 0.0063\n",
            "Epoch 84/100\n",
            "691/691 [==============================] - 111s 161ms/step - loss: 0.6544 - accuracy: 0.7689 - val_loss: 0.7458 - val_accuracy: 0.7606 - lr: 0.0063\n",
            "Epoch 85/100\n",
            "691/691 [==============================] - 112s 161ms/step - loss: 0.6595 - accuracy: 0.7702 - val_loss: 0.7516 - val_accuracy: 0.7492 - lr: 0.0063\n",
            "Epoch 86/100\n",
            "691/691 [==============================] - 112s 162ms/step - loss: 0.6465 - accuracy: 0.7771 - val_loss: 0.7542 - val_accuracy: 0.7516 - lr: 0.0031\n",
            "Epoch 87/100\n",
            "691/691 [==============================] - 112s 162ms/step - loss: 0.6547 - accuracy: 0.7709 - val_loss: 0.7449 - val_accuracy: 0.7549 - lr: 0.0031\n",
            "Epoch 88/100\n",
            "691/691 [==============================] - 112s 162ms/step - loss: 0.6378 - accuracy: 0.7791 - val_loss: 0.7541 - val_accuracy: 0.7557 - lr: 0.0031\n",
            "Epoch 89/100\n",
            "691/691 [==============================] - 111s 161ms/step - loss: 0.6475 - accuracy: 0.7785 - val_loss: 0.7416 - val_accuracy: 0.7565 - lr: 0.0031\n",
            "Epoch 90/100\n",
            "691/691 [==============================] - 112s 162ms/step - loss: 0.6393 - accuracy: 0.7750 - val_loss: 0.7486 - val_accuracy: 0.7549 - lr: 0.0031\n",
            "Epoch 91/100\n",
            "691/691 [==============================] - 112s 162ms/step - loss: 0.6357 - accuracy: 0.7767 - val_loss: 0.7428 - val_accuracy: 0.7573 - lr: 0.0016\n",
            "Epoch 92/100\n",
            "691/691 [==============================] - 112s 162ms/step - loss: 0.6325 - accuracy: 0.7777 - val_loss: 0.7428 - val_accuracy: 0.7590 - lr: 0.0016\n",
            "Epoch 93/100\n",
            "691/691 [==============================] - 112s 162ms/step - loss: 0.6371 - accuracy: 0.7730 - val_loss: 0.7422 - val_accuracy: 0.7565 - lr: 0.0016\n",
            "Epoch 94/100\n",
            "691/691 [==============================] - 116s 168ms/step - loss: 0.6404 - accuracy: 0.7762 - val_loss: 0.7357 - val_accuracy: 0.7598 - lr: 0.0016\n",
            "Epoch 95/100\n",
            "691/691 [==============================] - 113s 163ms/step - loss: 0.6381 - accuracy: 0.7746 - val_loss: 0.7388 - val_accuracy: 0.7590 - lr: 0.0016\n",
            "Epoch 96/100\n",
            "691/691 [==============================] - 115s 167ms/step - loss: 0.6381 - accuracy: 0.7755 - val_loss: 0.7345 - val_accuracy: 0.7581 - lr: 0.0016\n",
            "Epoch 97/100\n",
            "691/691 [==============================] - 112s 162ms/step - loss: 0.6305 - accuracy: 0.7778 - val_loss: 0.7349 - val_accuracy: 0.7581 - lr: 0.0016\n",
            "Epoch 98/100\n",
            "691/691 [==============================] - 113s 163ms/step - loss: 0.6272 - accuracy: 0.7794 - val_loss: 0.7400 - val_accuracy: 0.7606 - lr: 0.0016\n",
            "Epoch 99/100\n",
            "691/691 [==============================] - 113s 163ms/step - loss: 0.6372 - accuracy: 0.7757 - val_loss: 0.7372 - val_accuracy: 0.7622 - lr: 0.0016\n",
            "Epoch 100/100\n",
            "691/691 [==============================] - 112s 162ms/step - loss: 0.6420 - accuracy: 0.7774 - val_loss: 0.7388 - val_accuracy: 0.7606 - lr: 0.0016\n"
          ]
        }
      ],
      "source": [
        "# Training without MixUp, RandAug\n",
        "\n",
        "batch_size = 16\n",
        "epochs = 100\n",
        "learning_rate = 0.1\n",
        "checkpoint_filepath = 'baseline_nodp/chckpt.ckpt'\n",
        "\n",
        "optimizer = tf.keras.optimizers.SGD(learning_rate=learning_rate, clipnorm=1.)\n",
        "loss = tf.keras.losses.CategoricalCrossentropy(from_logits=True, reduction=tf.losses.Reduction.NONE)\n",
        "\n",
        "model = classification_model()\n",
        "model.compile(optimizer=optimizer, loss=loss, metrics=['accuracy'])\n",
        "save_weights = tf.keras.callbacks.ModelCheckpoint(checkpoint_filepath, monitor=\"val_loss\", mode='min', save_best_only=True, save_weights_only=True)\n",
        "reduce_learning_rate = tf.keras.callbacks.ReduceLROnPlateau(monitor='val_loss',factor=0.5, patience=5, mode='min')\n",
        "early_stopping = EarlyStopping(monitor='val_loss', patience=15, mode='min', restore_best_weights=True)\n",
        "\n",
        "history = model.fit(datagen_train.flow(X_train, Y_train, batch_size=batch_size), epochs=epochs, validation_data=(X_dev, Y_dev), callbacks=[save_weights, reduce_learning_rate, early_stopping])"
      ]
    },
    {
      "cell_type": "code",
      "execution_count": null,
      "id": "8c491925-79d0-4658-80a8-637a23c2e26d",
      "metadata": {
        "id": "8c491925-79d0-4658-80a8-637a23c2e26d",
        "outputId": "182c08a3-a67d-4e5a-ce42-eb8a684cd002"
      },
      "outputs": [
        {
          "name": "stderr",
          "output_type": "stream",
          "text": [
            "2022-06-05 11:09:41.177491: W tensorflow/core/framework/cpu_allocator_impl.cc:82] Allocation of 1847279616 exceeds 10% of free system memory.\n"
          ]
        },
        {
          "name": "stdout",
          "output_type": "stream",
          "text": [
            "96/96 [==============================] - 3s 34ms/step - loss: 0.6740 - accuracy: 0.7797\n",
            "model loss: 0.6740125417709351%\n",
            "model accuracy: 0.7796609997749329%\n"
          ]
        }
      ],
      "source": [
        "loss, accuracy = model.evaluate(X_test, Y_test)\n",
        "print('model loss: {}%'.format(loss))\n",
        "print('model accuracy: {}%'.format(accuracy))"
      ]
    },
    {
      "cell_type": "code",
      "execution_count": null,
      "id": "eabad800-b768-46ca-968c-873c05389df3",
      "metadata": {
        "scrolled": true,
        "tags": [],
        "id": "eabad800-b768-46ca-968c-873c05389df3",
        "outputId": "ddcb00af-da5c-4c9d-cd24-34e876365c3c"
      },
      "outputs": [
        {
          "name": "stdout",
          "output_type": "stream",
          "text": [
            "dict_keys(['loss', 'accuracy', 'val_loss', 'val_accuracy', 'lr'])\n"
          ]
        },
        {
          "data": {
            "image/png": "[encoded data removed]",
            "text/plain": [
              "<Figure size 432x288 with 1 Axes>"
            ]
          },
          "metadata": {
            "needs_background": "light"
          },
          "output_type": "display_data"
        },
        {
          "data": {
            "image/png": "[encoded data removed]",
            "text/plain": [
              "<Figure size 432x288 with 1 Axes>"
            ]
          },
          "metadata": {
            "needs_background": "light"
          },
          "output_type": "display_data"
        }
      ],
      "source": [
        "print_graphs(history)"
      ]
    },
    {
      "cell_type": "code",
      "execution_count": null,
      "id": "0ce93860-d05c-4d76-8d24-0877a12ee08f",
      "metadata": {
        "id": "0ce93860-d05c-4d76-8d24-0877a12ee08f",
        "outputId": "4945b148-5f95-40c2-83aa-15baf8348d2c"
      },
      "outputs": [
        {
          "name": "stdout",
          "output_type": "stream",
          "text": [
            "(11043, 224, 224, 3) (11043, 7)\n",
            "float32 float32\n"
          ]
        }
      ],
      "source": [
        "# function: RandAug\n",
        "def rand_augmentation(X_train_kaug, Y_train_kaug):\n",
        "    print(X_train_kaug.shape, Y_train_kaug.shape)\n",
        "    rand_aug = iaa.RandAugment(n=(0, 3), m=(2, 4))\n",
        "    X_train_kaug = rand_aug(images=X_train_kaug.astype('uint8')).astype('float32')\n",
        "    print(X_train_kaug.dtype, Y_train_kaug.dtype)\n",
        "    return X_train_kaug, Y_train_kaug\n",
        "\n",
        "X_train, Y_train = rand_augmentation(X_train, Y_train)"
      ]
    },
    {
      "cell_type": "code",
      "execution_count": null,
      "id": "1c38711d-bd2b-45f2-ba62-c6940a59243d",
      "metadata": {
        "scrolled": true,
        "tags": [],
        "id": "1c38711d-bd2b-45f2-ba62-c6940a59243d",
        "outputId": "87574252-230f-4b19-d663-51930aafcdc8"
      },
      "outputs": [
        {
          "name": "stdout",
          "output_type": "stream",
          "text": [
            "Epoch 1/100\n"
          ]
        },
        {
          "name": "stderr",
          "output_type": "stream",
          "text": [
            "2022-06-05 14:02:11.589024: I tensorflow/stream_executor/cuda/cuda_dnn.cc:377] Loaded cuDNN version 8302\n"
          ]
        },
        {
          "name": "stdout",
          "output_type": "stream",
          "text": [
            "691/691 [==============================] - 133s 153ms/step - loss: 1.6670 - accuracy: 0.3814 - val_loss: 1.6564 - val_accuracy: 0.3884 - lr: 0.1000\n",
            "Epoch 2/100\n",
            "691/691 [==============================] - 104s 150ms/step - loss: 1.6470 - accuracy: 0.3857 - val_loss: 1.6375 - val_accuracy: 0.3884 - lr: 0.1000\n",
            "Epoch 3/100\n",
            "691/691 [==============================] - 101s 146ms/step - loss: 1.6406 - accuracy: 0.3856 - val_loss: 1.6296 - val_accuracy: 0.3795 - lr: 0.1000\n",
            "Epoch 4/100\n",
            "691/691 [==============================] - 100s 145ms/step - loss: 1.6372 - accuracy: 0.3872 - val_loss: 1.6209 - val_accuracy: 0.3844 - lr: 0.1000\n",
            "Epoch 5/100\n",
            "691/691 [==============================] - 99s 143ms/step - loss: 1.6326 - accuracy: 0.3858 - val_loss: 1.6911 - val_accuracy: 0.3893 - lr: 0.1000\n",
            "Epoch 6/100\n",
            "691/691 [==============================] - 101s 147ms/step - loss: 1.6333 - accuracy: 0.3849 - val_loss: 1.6150 - val_accuracy: 0.3901 - lr: 0.1000\n",
            "Epoch 7/100\n",
            "691/691 [==============================] - 103s 149ms/step - loss: 1.6309 - accuracy: 0.3849 - val_loss: 1.6123 - val_accuracy: 0.3852 - lr: 0.1000\n",
            "Epoch 8/100\n",
            "691/691 [==============================] - 99s 143ms/step - loss: 1.6287 - accuracy: 0.3854 - val_loss: 1.6249 - val_accuracy: 0.3884 - lr: 0.1000\n",
            "Epoch 9/100\n",
            "691/691 [==============================] - 100s 145ms/step - loss: 1.6286 - accuracy: 0.3840 - val_loss: 1.6055 - val_accuracy: 0.3933 - lr: 0.1000\n",
            "Epoch 10/100\n",
            "691/691 [==============================] - 104s 150ms/step - loss: 1.6248 - accuracy: 0.3880 - val_loss: 1.6004 - val_accuracy: 0.3917 - lr: 0.1000\n",
            "Epoch 11/100\n",
            "691/691 [==============================] - 98s 142ms/step - loss: 1.6222 - accuracy: 0.3880 - val_loss: 1.6141 - val_accuracy: 0.3893 - lr: 0.1000\n",
            "Epoch 12/100\n",
            "691/691 [==============================] - 100s 145ms/step - loss: 1.6149 - accuracy: 0.3857 - val_loss: 1.5779 - val_accuracy: 0.3909 - lr: 0.1000\n",
            "Epoch 13/100\n",
            "691/691 [==============================] - 101s 146ms/step - loss: 1.6124 - accuracy: 0.3893 - val_loss: 1.5983 - val_accuracy: 0.3966 - lr: 0.1000\n",
            "Epoch 14/100\n",
            "691/691 [==============================] - 98s 142ms/step - loss: 1.6091 - accuracy: 0.3907 - val_loss: 1.5885 - val_accuracy: 0.4039 - lr: 0.1000\n",
            "Epoch 15/100\n",
            "691/691 [==============================] - 99s 142ms/step - loss: 1.6078 - accuracy: 0.3920 - val_loss: 1.7005 - val_accuracy: 0.3844 - lr: 0.1000\n",
            "Epoch 16/100\n",
            "691/691 [==============================] - 99s 143ms/step - loss: 1.6010 - accuracy: 0.3944 - val_loss: 2.2902 - val_accuracy: 0.2850 - lr: 0.1000\n",
            "Epoch 17/100\n",
            "691/691 [==============================] - 103s 149ms/step - loss: 1.5891 - accuracy: 0.4017 - val_loss: 1.5501 - val_accuracy: 0.4178 - lr: 0.1000\n",
            "Epoch 18/100\n",
            "691/691 [==============================] - 98s 142ms/step - loss: 1.5432 - accuracy: 0.4201 - val_loss: 2.1287 - val_accuracy: 0.3705 - lr: 0.1000\n",
            "Epoch 19/100\n",
            "691/691 [==============================] - 98s 141ms/step - loss: 1.4925 - accuracy: 0.4456 - val_loss: 1.8253 - val_accuracy: 0.4218 - lr: 0.1000\n",
            "Epoch 20/100\n",
            "691/691 [==============================] - 97s 141ms/step - loss: 1.4595 - accuracy: 0.4581 - val_loss: 1.5651 - val_accuracy: 0.4650 - lr: 0.1000\n",
            "Epoch 21/100\n",
            "691/691 [==============================] - 103s 148ms/step - loss: 1.4178 - accuracy: 0.4793 - val_loss: 1.3121 - val_accuracy: 0.5309 - lr: 0.1000\n",
            "Epoch 22/100\n",
            "691/691 [==============================] - 98s 142ms/step - loss: 1.3735 - accuracy: 0.4973 - val_loss: 1.4848 - val_accuracy: 0.4805 - lr: 0.1000\n",
            "Epoch 23/100\n",
            "691/691 [==============================] - 99s 143ms/step - loss: 1.3414 - accuracy: 0.5127 - val_loss: 1.3768 - val_accuracy: 0.4910 - lr: 0.1000\n",
            "Epoch 24/100\n",
            "691/691 [==============================] - 98s 142ms/step - loss: 1.3133 - accuracy: 0.5195 - val_loss: 1.3482 - val_accuracy: 0.5293 - lr: 0.1000\n",
            "Epoch 25/100\n",
            "691/691 [==============================] - 102s 148ms/step - loss: 1.2857 - accuracy: 0.5326 - val_loss: 1.1902 - val_accuracy: 0.5529 - lr: 0.1000\n",
            "Epoch 26/100\n",
            "691/691 [==============================] - 99s 143ms/step - loss: 1.2685 - accuracy: 0.5390 - val_loss: 1.6552 - val_accuracy: 0.4609 - lr: 0.1000\n",
            "Epoch 27/100\n",
            "691/691 [==============================] - 98s 142ms/step - loss: 1.2450 - accuracy: 0.5495 - val_loss: 1.3609 - val_accuracy: 0.5619 - lr: 0.1000\n",
            "Epoch 28/100\n",
            "691/691 [==============================] - 102s 147ms/step - loss: 1.2348 - accuracy: 0.5540 - val_loss: 1.1707 - val_accuracy: 0.5594 - lr: 0.1000\n",
            "Epoch 29/100\n",
            "691/691 [==============================] - 99s 144ms/step - loss: 1.2095 - accuracy: 0.5614 - val_loss: 1.1784 - val_accuracy: 0.5668 - lr: 0.1000\n",
            "Epoch 30/100\n",
            "691/691 [==============================] - 101s 146ms/step - loss: 1.2088 - accuracy: 0.5649 - val_loss: 1.1640 - val_accuracy: 0.5847 - lr: 0.1000\n",
            "Epoch 31/100\n",
            "691/691 [==============================] - 99s 142ms/step - loss: 1.1967 - accuracy: 0.5749 - val_loss: 1.1817 - val_accuracy: 0.5993 - lr: 0.1000\n",
            "Epoch 32/100\n",
            "691/691 [==============================] - 99s 143ms/step - loss: 1.1767 - accuracy: 0.5804 - val_loss: 1.9230 - val_accuracy: 0.4121 - lr: 0.1000\n",
            "Epoch 33/100\n",
            "691/691 [==============================] - 101s 146ms/step - loss: 1.1599 - accuracy: 0.5843 - val_loss: 1.1163 - val_accuracy: 0.6034 - lr: 0.1000\n",
            "Epoch 34/100\n",
            "691/691 [==============================] - 99s 143ms/step - loss: 1.1474 - accuracy: 0.5955 - val_loss: 1.1888 - val_accuracy: 0.6010 - lr: 0.1000\n",
            "Epoch 35/100\n",
            "691/691 [==============================] - 103s 149ms/step - loss: 1.1401 - accuracy: 0.5979 - val_loss: 1.0951 - val_accuracy: 0.6336 - lr: 0.1000\n",
            "Epoch 36/100\n",
            "691/691 [==============================] - 99s 143ms/step - loss: 1.1307 - accuracy: 0.6006 - val_loss: 1.4496 - val_accuracy: 0.5546 - lr: 0.1000\n",
            "Epoch 37/100\n",
            "691/691 [==============================] - 101s 146ms/step - loss: 1.1076 - accuracy: 0.6089 - val_loss: 1.0947 - val_accuracy: 0.6555 - lr: 0.1000\n",
            "Epoch 38/100\n",
            "691/691 [==============================] - 99s 143ms/step - loss: 1.0923 - accuracy: 0.6177 - val_loss: 1.1041 - val_accuracy: 0.6262 - lr: 0.1000\n",
            "Epoch 39/100\n",
            "691/691 [==============================] - 98s 142ms/step - loss: 1.0866 - accuracy: 0.6177 - val_loss: 1.1824 - val_accuracy: 0.6279 - lr: 0.1000\n",
            "Epoch 40/100\n",
            "691/691 [==============================] - 99s 143ms/step - loss: 1.0702 - accuracy: 0.6241 - val_loss: 1.7108 - val_accuracy: 0.6067 - lr: 0.1000\n",
            "Epoch 41/100\n",
            "691/691 [==============================] - 100s 145ms/step - loss: 1.0620 - accuracy: 0.6307 - val_loss: 1.0973 - val_accuracy: 0.6303 - lr: 0.1000\n",
            "Epoch 42/100\n",
            "691/691 [==============================] - 101s 146ms/step - loss: 1.0575 - accuracy: 0.6225 - val_loss: 1.0009 - val_accuracy: 0.6221 - lr: 0.1000\n",
            "Epoch 43/100\n",
            "691/691 [==============================] - 99s 143ms/step - loss: 1.0494 - accuracy: 0.6332 - val_loss: 1.0662 - val_accuracy: 0.6197 - lr: 0.1000\n",
            "Epoch 44/100\n",
            "691/691 [==============================] - 100s 144ms/step - loss: 1.0406 - accuracy: 0.6340 - val_loss: 1.1175 - val_accuracy: 0.6490 - lr: 0.1000\n",
            "Epoch 45/100\n",
            "691/691 [==============================] - 101s 146ms/step - loss: 1.0326 - accuracy: 0.6385 - val_loss: 0.9699 - val_accuracy: 0.6726 - lr: 0.1000\n",
            "Epoch 46/100\n",
            "691/691 [==============================] - 98s 142ms/step - loss: 1.0194 - accuracy: 0.6452 - val_loss: 1.0188 - val_accuracy: 0.6588 - lr: 0.1000\n",
            "Epoch 47/100\n",
            "691/691 [==============================] - 99s 144ms/step - loss: 1.0179 - accuracy: 0.6422 - val_loss: 0.9643 - val_accuracy: 0.6718 - lr: 0.1000\n",
            "Epoch 48/100\n",
            "691/691 [==============================] - 98s 142ms/step - loss: 1.0074 - accuracy: 0.6514 - val_loss: 1.0073 - val_accuracy: 0.6808 - lr: 0.1000\n",
            "Epoch 49/100\n",
            "691/691 [==============================] - 102s 148ms/step - loss: 1.0055 - accuracy: 0.6455 - val_loss: 0.9368 - val_accuracy: 0.6840 - lr: 0.1000\n",
            "Epoch 50/100\n",
            "691/691 [==============================] - 102s 147ms/step - loss: 0.9955 - accuracy: 0.6487 - val_loss: 0.9078 - val_accuracy: 0.6914 - lr: 0.1000\n",
            "Epoch 51/100\n",
            "691/691 [==============================] - 102s 148ms/step - loss: 0.9915 - accuracy: 0.6505 - val_loss: 0.8480 - val_accuracy: 0.7101 - lr: 0.1000\n",
            "Epoch 52/100\n",
            "691/691 [==============================] - 100s 145ms/step - loss: 0.9839 - accuracy: 0.6568 - val_loss: 1.0107 - val_accuracy: 0.6751 - lr: 0.1000\n",
            "Epoch 53/100\n",
            "691/691 [==============================] - 99s 143ms/step - loss: 0.9830 - accuracy: 0.6611 - val_loss: 1.0631 - val_accuracy: 0.6384 - lr: 0.1000\n",
            "Epoch 54/100\n",
            "691/691 [==============================] - 99s 143ms/step - loss: 0.9730 - accuracy: 0.6624 - val_loss: 0.9885 - val_accuracy: 0.6661 - lr: 0.1000\n",
            "Epoch 55/100\n",
            "691/691 [==============================] - 99s 143ms/step - loss: 0.9872 - accuracy: 0.6592 - val_loss: 1.1348 - val_accuracy: 0.6344 - lr: 0.1000\n",
            "Epoch 56/100\n",
            "691/691 [==============================] - 100s 144ms/step - loss: 0.9720 - accuracy: 0.6637 - val_loss: 1.0486 - val_accuracy: 0.6873 - lr: 0.1000\n",
            "Epoch 57/100\n",
            "691/691 [==============================] - 102s 148ms/step - loss: 0.8871 - accuracy: 0.6870 - val_loss: 0.8128 - val_accuracy: 0.7272 - lr: 0.0500\n",
            "Epoch 58/100\n",
            "691/691 [==============================] - 98s 141ms/step - loss: 0.8652 - accuracy: 0.6970 - val_loss: 0.9405 - val_accuracy: 0.6922 - lr: 0.0500\n",
            "Epoch 59/100\n",
            "691/691 [==============================] - 98s 142ms/step - loss: 0.8666 - accuracy: 0.6968 - val_loss: 0.8331 - val_accuracy: 0.7109 - lr: 0.0500\n",
            "Epoch 60/100\n",
            "691/691 [==============================] - 99s 143ms/step - loss: 0.8507 - accuracy: 0.7007 - val_loss: 0.8265 - val_accuracy: 0.7264 - lr: 0.0500\n",
            "Epoch 61/100\n",
            "691/691 [==============================] - 98s 141ms/step - loss: 0.8462 - accuracy: 0.7087 - val_loss: 0.8804 - val_accuracy: 0.6987 - lr: 0.0500\n",
            "Epoch 62/100\n",
            "691/691 [==============================] - 100s 144ms/step - loss: 0.8535 - accuracy: 0.7008 - val_loss: 0.8430 - val_accuracy: 0.7109 - lr: 0.0500\n",
            "Epoch 63/100\n",
            "691/691 [==============================] - 103s 149ms/step - loss: 0.7997 - accuracy: 0.7253 - val_loss: 0.7651 - val_accuracy: 0.7345 - lr: 0.0250\n",
            "Epoch 64/100\n",
            "691/691 [==============================] - 98s 142ms/step - loss: 0.7935 - accuracy: 0.7236 - val_loss: 0.8079 - val_accuracy: 0.7158 - lr: 0.0250\n",
            "Epoch 65/100\n",
            "691/691 [==============================] - 98s 142ms/step - loss: 0.7871 - accuracy: 0.7307 - val_loss: 0.7778 - val_accuracy: 0.7345 - lr: 0.0250\n",
            "Epoch 66/100\n",
            "691/691 [==============================] - 99s 143ms/step - loss: 0.7794 - accuracy: 0.7228 - val_loss: 0.8127 - val_accuracy: 0.7305 - lr: 0.0250\n",
            "Epoch 67/100\n",
            "691/691 [==============================] - 98s 142ms/step - loss: 0.7706 - accuracy: 0.7304 - val_loss: 0.7750 - val_accuracy: 0.7516 - lr: 0.0250\n",
            "Epoch 68/100\n",
            "691/691 [==============================] - 100s 144ms/step - loss: 0.7636 - accuracy: 0.7328 - val_loss: 0.7761 - val_accuracy: 0.7467 - lr: 0.0250\n",
            "Epoch 69/100\n",
            "691/691 [==============================] - 101s 146ms/step - loss: 0.7477 - accuracy: 0.7408 - val_loss: 0.7461 - val_accuracy: 0.7476 - lr: 0.0125\n",
            "Epoch 70/100\n",
            "691/691 [==============================] - 99s 143ms/step - loss: 0.7425 - accuracy: 0.7451 - val_loss: 0.7676 - val_accuracy: 0.7492 - lr: 0.0125\n",
            "Epoch 71/100\n",
            "691/691 [==============================] - 100s 144ms/step - loss: 0.7456 - accuracy: 0.7444 - val_loss: 0.7562 - val_accuracy: 0.7508 - lr: 0.0125\n",
            "Epoch 72/100\n",
            "691/691 [==============================] - 101s 146ms/step - loss: 0.7399 - accuracy: 0.7420 - val_loss: 0.7391 - val_accuracy: 0.7484 - lr: 0.0125\n",
            "Epoch 73/100\n",
            "691/691 [==============================] - 98s 141ms/step - loss: 0.7380 - accuracy: 0.7397 - val_loss: 0.7552 - val_accuracy: 0.7508 - lr: 0.0125\n",
            "Epoch 74/100\n",
            "691/691 [==============================] - 99s 143ms/step - loss: 0.7390 - accuracy: 0.7404 - val_loss: 0.7545 - val_accuracy: 0.7435 - lr: 0.0125\n",
            "Epoch 75/100\n",
            "691/691 [==============================] - 98s 141ms/step - loss: 0.7366 - accuracy: 0.7427 - val_loss: 0.7598 - val_accuracy: 0.7533 - lr: 0.0125\n",
            "Epoch 76/100\n",
            "691/691 [==============================] - 99s 143ms/step - loss: 0.7325 - accuracy: 0.7491 - val_loss: 0.7734 - val_accuracy: 0.7419 - lr: 0.0125\n",
            "Epoch 77/100\n",
            "691/691 [==============================] - 100s 144ms/step - loss: 0.7356 - accuracy: 0.7406 - val_loss: 0.7523 - val_accuracy: 0.7451 - lr: 0.0125\n",
            "Epoch 78/100\n",
            "691/691 [==============================] - 99s 143ms/step - loss: 0.7155 - accuracy: 0.7492 - val_loss: 0.7474 - val_accuracy: 0.7508 - lr: 0.0063\n",
            "Epoch 79/100\n",
            "691/691 [==============================] - 99s 143ms/step - loss: 0.7106 - accuracy: 0.7492 - val_loss: 0.7422 - val_accuracy: 0.7549 - lr: 0.0063\n",
            "Epoch 80/100\n",
            "691/691 [==============================] - 101s 145ms/step - loss: 0.7077 - accuracy: 0.7487 - val_loss: 0.7344 - val_accuracy: 0.7524 - lr: 0.0063\n",
            "Epoch 81/100\n",
            "691/691 [==============================] - 99s 143ms/step - loss: 0.7060 - accuracy: 0.7551 - val_loss: 0.7447 - val_accuracy: 0.7492 - lr: 0.0063\n",
            "Epoch 82/100\n",
            "691/691 [==============================] - 99s 143ms/step - loss: 0.7089 - accuracy: 0.7546 - val_loss: 0.7496 - val_accuracy: 0.7638 - lr: 0.0063\n",
            "Epoch 83/100\n",
            "691/691 [==============================] - 99s 144ms/step - loss: 0.7074 - accuracy: 0.7536 - val_loss: 0.7404 - val_accuracy: 0.7467 - lr: 0.0063\n",
            "Epoch 84/100\n",
            "691/691 [==============================] - 99s 143ms/step - loss: 0.7154 - accuracy: 0.7502 - val_loss: 0.7345 - val_accuracy: 0.7459 - lr: 0.0063\n",
            "Epoch 85/100\n",
            "691/691 [==============================] - 100s 144ms/step - loss: 0.7018 - accuracy: 0.7576 - val_loss: 0.7782 - val_accuracy: 0.7345 - lr: 0.0063\n",
            "Epoch 86/100\n",
            "691/691 [==============================] - 103s 149ms/step - loss: 0.7069 - accuracy: 0.7468 - val_loss: 0.7329 - val_accuracy: 0.7565 - lr: 0.0031\n",
            "Epoch 87/100\n",
            "691/691 [==============================] - 100s 145ms/step - loss: 0.6947 - accuracy: 0.7558 - val_loss: 0.7394 - val_accuracy: 0.7541 - lr: 0.0031\n",
            "Epoch 88/100\n",
            "691/691 [==============================] - 99s 144ms/step - loss: 0.7008 - accuracy: 0.7573 - val_loss: 0.7359 - val_accuracy: 0.7524 - lr: 0.0031\n",
            "Epoch 89/100\n",
            "691/691 [==============================] - 98s 142ms/step - loss: 0.6998 - accuracy: 0.7499 - val_loss: 0.7331 - val_accuracy: 0.7492 - lr: 0.0031\n",
            "Epoch 90/100\n",
            "691/691 [==============================] - 98s 142ms/step - loss: 0.6949 - accuracy: 0.7593 - val_loss: 0.7421 - val_accuracy: 0.7622 - lr: 0.0031\n",
            "Epoch 91/100\n",
            "691/691 [==============================] - 100s 144ms/step - loss: 0.6878 - accuracy: 0.7547 - val_loss: 0.7437 - val_accuracy: 0.7524 - lr: 0.0031\n",
            "Epoch 92/100\n",
            "691/691 [==============================] - 99s 144ms/step - loss: 0.6847 - accuracy: 0.7602 - val_loss: 0.7364 - val_accuracy: 0.7557 - lr: 0.0016\n",
            "Epoch 93/100\n",
            "691/691 [==============================] - 100s 144ms/step - loss: 0.6836 - accuracy: 0.7573 - val_loss: 0.7359 - val_accuracy: 0.7524 - lr: 0.0016\n",
            "Epoch 94/100\n",
            "691/691 [==============================] - 98s 141ms/step - loss: 0.6895 - accuracy: 0.7584 - val_loss: 0.7408 - val_accuracy: 0.7565 - lr: 0.0016\n",
            "Epoch 95/100\n",
            "691/691 [==============================] - 97s 141ms/step - loss: 0.6845 - accuracy: 0.7627 - val_loss: 0.7377 - val_accuracy: 0.7476 - lr: 0.0016\n",
            "Epoch 96/100\n",
            "691/691 [==============================] - 98s 141ms/step - loss: 0.6819 - accuracy: 0.7626 - val_loss: 0.7446 - val_accuracy: 0.7508 - lr: 0.0016\n",
            "Epoch 97/100\n",
            "691/691 [==============================] - 99s 143ms/step - loss: 0.6799 - accuracy: 0.7625 - val_loss: 0.7399 - val_accuracy: 0.7492 - lr: 7.8125e-04\n",
            "Epoch 98/100\n",
            "691/691 [==============================] - 99s 143ms/step - loss: 0.6827 - accuracy: 0.7627 - val_loss: 0.7393 - val_accuracy: 0.7484 - lr: 7.8125e-04\n",
            "Epoch 99/100\n",
            "691/691 [==============================] - 100s 144ms/step - loss: 0.6780 - accuracy: 0.7675 - val_loss: 0.7387 - val_accuracy: 0.7516 - lr: 7.8125e-04\n",
            "Epoch 100/100\n",
            "691/691 [==============================] - 99s 143ms/step - loss: 0.6832 - accuracy: 0.7579 - val_loss: 0.7413 - val_accuracy: 0.7541 - lr: 7.8125e-04\n"
          ]
        }
      ],
      "source": [
        "# Training with RandAug\n",
        "batch_size = 16\n",
        "epochs = 100\n",
        "learning_rate = 0.1\n",
        "checkpoint_filepath = 'baseline_randaug_nodp/chckpt.ckpt'\n",
        "\n",
        "optimizer = tf.keras.optimizers.SGD(learning_rate=learning_rate, clipnorm=1.)\n",
        "loss = tf.keras.losses.CategoricalCrossentropy(from_logits=True, reduction=tf.losses.Reduction.NONE)\n",
        "\n",
        "model = classification_model()\n",
        "model.compile(optimizer=optimizer, loss=loss, metrics=['accuracy'])\n",
        "save_weights = tf.keras.callbacks.ModelCheckpoint(checkpoint_filepath, monitor=\"val_loss\", mode='min', save_best_only=True, save_weights_only=True)\n",
        "reduce_learning_rate = tf.keras.callbacks.ReduceLROnPlateau(monitor='val_loss',factor=0.5, patience=5, mode='min')\n",
        "early_stopping = EarlyStopping(monitor='val_loss', patience=15, mode='min', restore_best_weights=True)\n",
        "\n",
        "history = model.fit(datagen_train.flow(X_train, Y_train, batch_size=batch_size), epochs=epochs, validation_data=(X_dev, Y_dev), callbacks=[save_weights, reduce_learning_rate, early_stopping])"
      ]
    },
    {
      "cell_type": "code",
      "execution_count": null,
      "id": "19b12bd0-57fd-4cd2-83be-6a4b096512c9",
      "metadata": {
        "id": "19b12bd0-57fd-4cd2-83be-6a4b096512c9",
        "outputId": "58a53014-e2fd-4aeb-d9bf-4b4509330c29"
      },
      "outputs": [
        {
          "name": "stderr",
          "output_type": "stream",
          "text": [
            "2022-06-05 16:55:50.926062: W tensorflow/core/framework/cpu_allocator_impl.cc:82] Allocation of 1847279616 exceeds 10% of free system memory.\n",
            "2022-06-05 16:55:53.233502: W tensorflow/core/framework/cpu_allocator_impl.cc:82] Allocation of 1847279616 exceeds 10% of free system memory.\n"
          ]
        },
        {
          "name": "stdout",
          "output_type": "stream",
          "text": [
            "96/96 [==============================] - 3s 31ms/step - loss: 0.6697 - accuracy: 0.7722\n",
            "model loss: 0.6696911454200745%\n",
            "model accuracy: 0.7721642851829529%\n"
          ]
        }
      ],
      "source": [
        "loss, accuracy = model.evaluate(X_test, Y_test)\n",
        "print('model loss: {}%'.format(loss))\n",
        "print('model accuracy: {}%'.format(accuracy))"
      ]
    },
    {
      "cell_type": "code",
      "execution_count": null,
      "id": "48a948e0-568f-43ee-8139-9bf1f9ea7e35",
      "metadata": {
        "scrolled": true,
        "tags": [],
        "id": "48a948e0-568f-43ee-8139-9bf1f9ea7e35",
        "outputId": "5526c9a3-0977-4df1-d152-ce88d2d9d517"
      },
      "outputs": [
        {
          "name": "stdout",
          "output_type": "stream",
          "text": [
            "dict_keys(['loss', 'accuracy', 'val_loss', 'val_accuracy', 'lr'])\n"
          ]
        },
        {
          "data": {
            "image/png": "[encoded data removed]",
            "text/plain": [
              "<Figure size 432x288 with 1 Axes>"
            ]
          },
          "metadata": {
            "needs_background": "light"
          },
          "output_type": "display_data"
        },
        {
          "data": {
            "image/png": "[encoded data removed]",
            "text/plain": [
              "<Figure size 432x288 with 1 Axes>"
            ]
          },
          "metadata": {
            "needs_background": "light"
          },
          "output_type": "display_data"
        }
      ],
      "source": [
        "print_graphs(history)"
      ]
    }
  ],
  "metadata": {
    "kernelspec": {
      "display_name": "Python 3 (ipykernel)",
      "language": "python",
      "name": "python3"
    },
    "language_info": {
      "codemirror_mode": {
        "name": "ipython",
        "version": 3
      },
      "file_extension": ".py",
      "mimetype": "text/x-python",
      "name": "python",
      "nbconvert_exporter": "python",
      "pygments_lexer": "ipython3",
      "version": "3.8.10"
    },
    "colab": {
      "name": "Ghostface - Basic + RandAug.ipynb",
      "provenance": [],
      "collapsed_sections": []
    }
  },
  "nbformat": 4,
  "nbformat_minor": 5
}